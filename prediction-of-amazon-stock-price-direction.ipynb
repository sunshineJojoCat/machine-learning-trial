{
 "cells": [
  {
   "cell_type": "code",
   "execution_count": 69,
   "id": "68a5cb77",
   "metadata": {
    "_cell_guid": "b1076dfc-b9ad-4769-8c92-a6c4dae69d19",
    "_uuid": "8f2839f25d086af736a60e9eeb907d3b93b6e0e5",
    "execution": {
     "iopub.execute_input": "2024-01-10T11:32:03.792723Z",
     "iopub.status.busy": "2024-01-10T11:32:03.792218Z",
     "iopub.status.idle": "2024-01-10T11:32:04.234442Z",
     "shell.execute_reply": "2024-01-10T11:32:04.233017Z"
    },
    "papermill": {
     "duration": 0.465693,
     "end_time": "2024-01-10T11:32:04.237084",
     "exception": false,
     "start_time": "2024-01-10T11:32:03.771391",
     "status": "completed"
    },
    "tags": []
   },
   "outputs": [],
   "source": [
    "# This Python 3 environment comes with many helpful analytics libraries installed\n",
    "# It is defined by the kaggle/python Docker image: https://github.com/kaggle/docker-python\n",
    "# For example, here's several helpful packages to load\n",
    "\n",
    "import numpy as np # linear algebra\n",
    "import pandas as pd # data processing, CSV file I/O (e.g. pd.read_csv)\n",
    "\n",
    "# Input data files are available in the read-only \"../input/\" directory\n",
    "# For example, running this (by clicking run or pressing Shift+Enter) will list all files under the input directory\n",
    "\n",
    "import os\n",
    "for dirname, _, filenames in os.walk('/datasets'):\n",
    "    for filename in filenames:\n",
    "        print(os.path.join(dirname, filename))\n",
    "\n",
    "# You can write up to 20GB to the current directory (/kaggle/working/) that gets preserved as output when you create a version using \"Save & Run All\" \n",
    "# You can also write temporary files to /kaggle/temp/, but they won't be saved outside of the current session"
   ]
  },
  {
   "cell_type": "code",
   "execution_count": 70,
   "id": "2b487c83",
   "metadata": {},
   "outputs": [
    {
     "name": "stdout",
     "output_type": "stream",
     "text": [
      "/Users/witchapatissariyawat/.pyenv/versions/stock-machinelearning/bin/pip\n"
     ]
    }
   ],
   "source": [
    "!which pip"
   ]
  },
  {
   "cell_type": "markdown",
   "id": "3c670f6a",
   "metadata": {
    "papermill": {
     "duration": 0.01814,
     "end_time": "2024-01-10T11:32:04.273603",
     "exception": false,
     "start_time": "2024-01-10T11:32:04.255463",
     "status": "completed"
    },
    "tags": []
   },
   "source": [
    "## The objective is to forecast the directional movement (up or down) of Amazon.com, Inc. (AMZN) stock prices. \n",
    "Instead of predicting the exact price, the focus is on binary classification: determining whether the closing price on the next day will be higher than the opening price. This approach aims to guide decisions on buying or selling stocks based on price movement direction.\n",
    "\n",
    "The dataset spans from 1997 to 2020, divided into training (1997-2016), validation (2016-2018), and testing (2018-2020) periods. The data is distributed across AMZN_train.csv, AMZN_val.csv, and AMZN_test.csv files for the respective timeframes."
   ]
  },
  {
   "cell_type": "markdown",
   "id": "645576e3",
   "metadata": {
    "papermill": {
     "duration": 0.017927,
     "end_time": "2024-01-10T11:32:04.309794",
     "exception": false,
     "start_time": "2024-01-10T11:32:04.291867",
     "status": "completed"
    },
    "tags": []
   },
   "source": [
    "## Data Exploration\n",
    "In our preliminary analysis, we will import the required libraries and examine the available datasets to identify the data attributes. Utilizing the pandas library, we aim to visualize the variables through plots to detect potential trends in the data. This initial exploration will also involve considering the option of feature engineering to enhance our understanding of the dataset. Let's proceed by loading the pandas library and initiating the exploratory process."
   ]
  },
  {
   "cell_type": "code",
   "execution_count": 71,
   "id": "3781ad32",
   "metadata": {
    "execution": {
     "iopub.execute_input": "2024-01-10T11:32:04.348544Z",
     "iopub.status.busy": "2024-01-10T11:32:04.348044Z",
     "iopub.status.idle": "2024-01-10T11:32:04.386985Z",
     "shell.execute_reply": "2024-01-10T11:32:04.386080Z"
    },
    "papermill": {
     "duration": 0.061695,
     "end_time": "2024-01-10T11:32:04.389661",
     "exception": false,
     "start_time": "2024-01-10T11:32:04.327966",
     "status": "completed"
    },
    "tags": []
   },
   "outputs": [],
   "source": [
    "amz_df=pd.read_csv(\"./datasets/AMZN_train.csv\")\n",
    "amz_val_df=pd.read_csv(\"./datasets/AMZN_val.csv\")\n",
    "amz_test_df=pd.read_csv(\"./datasets/AMZN_test.csv\")"
   ]
  },
  {
   "cell_type": "code",
   "execution_count": 72,
   "id": "636a9096",
   "metadata": {
    "execution": {
     "iopub.execute_input": "2024-01-10T11:32:04.430446Z",
     "iopub.status.busy": "2024-01-10T11:32:04.429368Z",
     "iopub.status.idle": "2024-01-10T11:32:04.456476Z",
     "shell.execute_reply": "2024-01-10T11:32:04.455320Z"
    },
    "papermill": {
     "duration": 0.050351,
     "end_time": "2024-01-10T11:32:04.459284",
     "exception": false,
     "start_time": "2024-01-10T11:32:04.408933",
     "status": "completed"
    },
    "tags": []
   },
   "outputs": [
    {
     "data": {
      "text/html": [
       "<div>\n",
       "<style scoped>\n",
       "    .dataframe tbody tr th:only-of-type {\n",
       "        vertical-align: middle;\n",
       "    }\n",
       "\n",
       "    .dataframe tbody tr th {\n",
       "        vertical-align: top;\n",
       "    }\n",
       "\n",
       "    .dataframe thead th {\n",
       "        text-align: right;\n",
       "    }\n",
       "</style>\n",
       "<table border=\"1\" class=\"dataframe\">\n",
       "  <thead>\n",
       "    <tr style=\"text-align: right;\">\n",
       "      <th></th>\n",
       "      <th>Date</th>\n",
       "      <th>Open</th>\n",
       "      <th>High</th>\n",
       "      <th>Low</th>\n",
       "      <th>Close</th>\n",
       "      <th>Adj Close</th>\n",
       "      <th>Volume</th>\n",
       "    </tr>\n",
       "  </thead>\n",
       "  <tbody>\n",
       "    <tr>\n",
       "      <th>0</th>\n",
       "      <td>1997-05-15</td>\n",
       "      <td>2.437500</td>\n",
       "      <td>2.500000</td>\n",
       "      <td>1.927083</td>\n",
       "      <td>1.958333</td>\n",
       "      <td>1.958333</td>\n",
       "      <td>72156000</td>\n",
       "    </tr>\n",
       "    <tr>\n",
       "      <th>1</th>\n",
       "      <td>1997-05-16</td>\n",
       "      <td>1.968750</td>\n",
       "      <td>1.979167</td>\n",
       "      <td>1.708333</td>\n",
       "      <td>1.729167</td>\n",
       "      <td>1.729167</td>\n",
       "      <td>14700000</td>\n",
       "    </tr>\n",
       "    <tr>\n",
       "      <th>2</th>\n",
       "      <td>1997-05-19</td>\n",
       "      <td>1.760417</td>\n",
       "      <td>1.770833</td>\n",
       "      <td>1.625000</td>\n",
       "      <td>1.708333</td>\n",
       "      <td>1.708333</td>\n",
       "      <td>6106800</td>\n",
       "    </tr>\n",
       "    <tr>\n",
       "      <th>3</th>\n",
       "      <td>1997-05-20</td>\n",
       "      <td>1.729167</td>\n",
       "      <td>1.750000</td>\n",
       "      <td>1.635417</td>\n",
       "      <td>1.635417</td>\n",
       "      <td>1.635417</td>\n",
       "      <td>5467200</td>\n",
       "    </tr>\n",
       "    <tr>\n",
       "      <th>4</th>\n",
       "      <td>1997-05-21</td>\n",
       "      <td>1.635417</td>\n",
       "      <td>1.645833</td>\n",
       "      <td>1.375000</td>\n",
       "      <td>1.427083</td>\n",
       "      <td>1.427083</td>\n",
       "      <td>18853200</td>\n",
       "    </tr>\n",
       "  </tbody>\n",
       "</table>\n",
       "</div>"
      ],
      "text/plain": [
       "         Date      Open      High       Low     Close  Adj Close    Volume\n",
       "0  1997-05-15  2.437500  2.500000  1.927083  1.958333   1.958333  72156000\n",
       "1  1997-05-16  1.968750  1.979167  1.708333  1.729167   1.729167  14700000\n",
       "2  1997-05-19  1.760417  1.770833  1.625000  1.708333   1.708333   6106800\n",
       "3  1997-05-20  1.729167  1.750000  1.635417  1.635417   1.635417   5467200\n",
       "4  1997-05-21  1.635417  1.645833  1.375000  1.427083   1.427083  18853200"
      ]
     },
     "execution_count": 72,
     "metadata": {},
     "output_type": "execute_result"
    }
   ],
   "source": [
    "amz_df.head(5)"
   ]
  },
  {
   "cell_type": "code",
   "execution_count": 73,
   "id": "f780cdfb",
   "metadata": {
    "execution": {
     "iopub.execute_input": "2024-01-10T11:32:04.499796Z",
     "iopub.status.busy": "2024-01-10T11:32:04.499084Z",
     "iopub.status.idle": "2024-01-10T11:32:04.508067Z",
     "shell.execute_reply": "2024-01-10T11:32:04.506917Z"
    },
    "papermill": {
     "duration": 0.031994,
     "end_time": "2024-01-10T11:32:04.510377",
     "exception": false,
     "start_time": "2024-01-10T11:32:04.478383",
     "status": "completed"
    },
    "tags": []
   },
   "outputs": [
    {
     "data": {
      "text/plain": [
       "Date          object\n",
       "Open         float64\n",
       "High         float64\n",
       "Low          float64\n",
       "Close        float64\n",
       "Adj Close    float64\n",
       "Volume         int64\n",
       "dtype: object"
      ]
     },
     "execution_count": 73,
     "metadata": {},
     "output_type": "execute_result"
    }
   ],
   "source": [
    "amz_df.dtypes"
   ]
  },
  {
   "cell_type": "code",
   "execution_count": 74,
   "id": "7d7eacd6",
   "metadata": {
    "execution": {
     "iopub.execute_input": "2024-01-10T11:32:04.550814Z",
     "iopub.status.busy": "2024-01-10T11:32:04.549887Z",
     "iopub.status.idle": "2024-01-10T11:32:04.566652Z",
     "shell.execute_reply": "2024-01-10T11:32:04.565581Z"
    },
    "papermill": {
     "duration": 0.040094,
     "end_time": "2024-01-10T11:32:04.569183",
     "exception": false,
     "start_time": "2024-01-10T11:32:04.529089",
     "status": "completed"
    },
    "tags": []
   },
   "outputs": [
    {
     "data": {
      "text/plain": [
       "Date         datetime64[ns]\n",
       "Open                float64\n",
       "High                float64\n",
       "Low                 float64\n",
       "Close               float64\n",
       "Adj Close           float64\n",
       "Volume                int64\n",
       "dtype: object"
      ]
     },
     "execution_count": 74,
     "metadata": {},
     "output_type": "execute_result"
    }
   ],
   "source": [
    "#Converting Date feature to Datetime Data type\n",
    "amz_df['Date']=pd.to_datetime(amz_df['Date'])\n",
    "amz_df.dtypes"
   ]
  },
  {
   "cell_type": "code",
   "execution_count": 75,
   "id": "9f4442b7",
   "metadata": {
    "execution": {
     "iopub.execute_input": "2024-01-10T11:32:04.609721Z",
     "iopub.status.busy": "2024-01-10T11:32:04.609277Z",
     "iopub.status.idle": "2024-01-10T11:32:04.659724Z",
     "shell.execute_reply": "2024-01-10T11:32:04.658580Z"
    },
    "papermill": {
     "duration": 0.074,
     "end_time": "2024-01-10T11:32:04.662308",
     "exception": false,
     "start_time": "2024-01-10T11:32:04.588308",
     "status": "completed"
    },
    "tags": []
   },
   "outputs": [
    {
     "data": {
      "text/html": [
       "<div>\n",
       "<style scoped>\n",
       "    .dataframe tbody tr th:only-of-type {\n",
       "        vertical-align: middle;\n",
       "    }\n",
       "\n",
       "    .dataframe tbody tr th {\n",
       "        vertical-align: top;\n",
       "    }\n",
       "\n",
       "    .dataframe thead th {\n",
       "        text-align: right;\n",
       "    }\n",
       "</style>\n",
       "<table border=\"1\" class=\"dataframe\">\n",
       "  <thead>\n",
       "    <tr style=\"text-align: right;\">\n",
       "      <th></th>\n",
       "      <th>Date</th>\n",
       "      <th>Open</th>\n",
       "      <th>High</th>\n",
       "      <th>Low</th>\n",
       "      <th>Close</th>\n",
       "      <th>Adj Close</th>\n",
       "      <th>Volume</th>\n",
       "    </tr>\n",
       "  </thead>\n",
       "  <tbody>\n",
       "    <tr>\n",
       "      <th>count</th>\n",
       "      <td>4781</td>\n",
       "      <td>4781.000000</td>\n",
       "      <td>4781.000000</td>\n",
       "      <td>4781.000000</td>\n",
       "      <td>4781.000000</td>\n",
       "      <td>4781.000000</td>\n",
       "      <td>4.781000e+03</td>\n",
       "    </tr>\n",
       "    <tr>\n",
       "      <th>mean</th>\n",
       "      <td>2006-11-13 22:50:07.404308736</td>\n",
       "      <td>127.619845</td>\n",
       "      <td>129.480122</td>\n",
       "      <td>125.697925</td>\n",
       "      <td>127.662449</td>\n",
       "      <td>127.662449</td>\n",
       "      <td>8.225935e+06</td>\n",
       "    </tr>\n",
       "    <tr>\n",
       "      <th>min</th>\n",
       "      <td>1997-05-15 00:00:00</td>\n",
       "      <td>1.406250</td>\n",
       "      <td>1.447917</td>\n",
       "      <td>1.312500</td>\n",
       "      <td>1.395833</td>\n",
       "      <td>1.395833</td>\n",
       "      <td>4.872000e+05</td>\n",
       "    </tr>\n",
       "    <tr>\n",
       "      <th>25%</th>\n",
       "      <td>2002-02-15 00:00:00</td>\n",
       "      <td>34.299999</td>\n",
       "      <td>34.849998</td>\n",
       "      <td>33.660000</td>\n",
       "      <td>34.310001</td>\n",
       "      <td>34.310001</td>\n",
       "      <td>4.200900e+06</td>\n",
       "    </tr>\n",
       "    <tr>\n",
       "      <th>50%</th>\n",
       "      <td>2006-11-13 00:00:00</td>\n",
       "      <td>62.880001</td>\n",
       "      <td>64.750000</td>\n",
       "      <td>60.937500</td>\n",
       "      <td>62.750000</td>\n",
       "      <td>62.750000</td>\n",
       "      <td>6.200100e+06</td>\n",
       "    </tr>\n",
       "    <tr>\n",
       "      <th>75%</th>\n",
       "      <td>2011-08-12 00:00:00</td>\n",
       "      <td>189.009995</td>\n",
       "      <td>191.600006</td>\n",
       "      <td>186.210007</td>\n",
       "      <td>189.029999</td>\n",
       "      <td>189.029999</td>\n",
       "      <td>9.239900e+06</td>\n",
       "    </tr>\n",
       "    <tr>\n",
       "      <th>max</th>\n",
       "      <td>2016-05-13 00:00:00</td>\n",
       "      <td>717.380005</td>\n",
       "      <td>722.450012</td>\n",
       "      <td>711.510010</td>\n",
       "      <td>717.929993</td>\n",
       "      <td>717.929993</td>\n",
       "      <td>1.043292e+08</td>\n",
       "    </tr>\n",
       "    <tr>\n",
       "      <th>std</th>\n",
       "      <td>NaN</td>\n",
       "      <td>145.693083</td>\n",
       "      <td>147.132537</td>\n",
       "      <td>144.053633</td>\n",
       "      <td>145.677581</td>\n",
       "      <td>145.677581</td>\n",
       "      <td>7.810188e+06</td>\n",
       "    </tr>\n",
       "  </tbody>\n",
       "</table>\n",
       "</div>"
      ],
      "text/plain": [
       "                                Date         Open         High          Low  \\\n",
       "count                           4781  4781.000000  4781.000000  4781.000000   \n",
       "mean   2006-11-13 22:50:07.404308736   127.619845   129.480122   125.697925   \n",
       "min              1997-05-15 00:00:00     1.406250     1.447917     1.312500   \n",
       "25%              2002-02-15 00:00:00    34.299999    34.849998    33.660000   \n",
       "50%              2006-11-13 00:00:00    62.880001    64.750000    60.937500   \n",
       "75%              2011-08-12 00:00:00   189.009995   191.600006   186.210007   \n",
       "max              2016-05-13 00:00:00   717.380005   722.450012   711.510010   \n",
       "std                              NaN   145.693083   147.132537   144.053633   \n",
       "\n",
       "             Close    Adj Close        Volume  \n",
       "count  4781.000000  4781.000000  4.781000e+03  \n",
       "mean    127.662449   127.662449  8.225935e+06  \n",
       "min       1.395833     1.395833  4.872000e+05  \n",
       "25%      34.310001    34.310001  4.200900e+06  \n",
       "50%      62.750000    62.750000  6.200100e+06  \n",
       "75%     189.029999   189.029999  9.239900e+06  \n",
       "max     717.929993   717.929993  1.043292e+08  \n",
       "std     145.677581   145.677581  7.810188e+06  "
      ]
     },
     "execution_count": 75,
     "metadata": {},
     "output_type": "execute_result"
    }
   ],
   "source": [
    "amz_df.describe()"
   ]
  },
  {
   "cell_type": "code",
   "execution_count": 76,
   "id": "453447c7",
   "metadata": {
    "execution": {
     "iopub.execute_input": "2024-01-10T11:32:04.704347Z",
     "iopub.status.busy": "2024-01-10T11:32:04.703379Z",
     "iopub.status.idle": "2024-01-10T11:32:04.724320Z",
     "shell.execute_reply": "2024-01-10T11:32:04.723040Z"
    },
    "papermill": {
     "duration": 0.0443,
     "end_time": "2024-01-10T11:32:04.726568",
     "exception": false,
     "start_time": "2024-01-10T11:32:04.682268",
     "status": "completed"
    },
    "tags": []
   },
   "outputs": [
    {
     "name": "stdout",
     "output_type": "stream",
     "text": [
      "<class 'pandas.core.frame.DataFrame'>\n",
      "RangeIndex: 4781 entries, 0 to 4780\n",
      "Data columns (total 7 columns):\n",
      " #   Column     Non-Null Count  Dtype         \n",
      "---  ------     --------------  -----         \n",
      " 0   Date       4781 non-null   datetime64[ns]\n",
      " 1   Open       4781 non-null   float64       \n",
      " 2   High       4781 non-null   float64       \n",
      " 3   Low        4781 non-null   float64       \n",
      " 4   Close      4781 non-null   float64       \n",
      " 5   Adj Close  4781 non-null   float64       \n",
      " 6   Volume     4781 non-null   int64         \n",
      "dtypes: datetime64[ns](1), float64(5), int64(1)\n",
      "memory usage: 261.6 KB\n"
     ]
    }
   ],
   "source": [
    "# Checking Non Null values in each column\n",
    "amz_df.info()"
   ]
  },
  {
   "cell_type": "markdown",
   "id": "9395d3a0",
   "metadata": {
    "papermill": {
     "duration": 0.018852,
     "end_time": "2024-01-10T11:32:04.764661",
     "exception": false,
     "start_time": "2024-01-10T11:32:04.745809",
     "status": "completed"
    },
    "tags": []
   },
   "source": [
    "There are no missing values in the dataset."
   ]
  },
  {
   "cell_type": "code",
   "execution_count": 77,
   "id": "70845f5f",
   "metadata": {
    "execution": {
     "iopub.execute_input": "2024-01-10T11:32:04.805846Z",
     "iopub.status.busy": "2024-01-10T11:32:04.805207Z",
     "iopub.status.idle": "2024-01-10T11:32:04.812145Z",
     "shell.execute_reply": "2024-01-10T11:32:04.811062Z"
    },
    "papermill": {
     "duration": 0.030017,
     "end_time": "2024-01-10T11:32:04.814497",
     "exception": false,
     "start_time": "2024-01-10T11:32:04.784480",
     "status": "completed"
    },
    "tags": []
   },
   "outputs": [
    {
     "data": {
      "text/plain": [
       "(Timestamp('1997-05-15 00:00:00'), Timestamp('2016-05-13 00:00:00'))"
      ]
     },
     "execution_count": 77,
     "metadata": {},
     "output_type": "execute_result"
    }
   ],
   "source": [
    "# print the time range\n",
    "amz_df[\"Date\"].min(), amz_df[\"Date\"].max()"
   ]
  },
  {
   "cell_type": "markdown",
   "id": "79d32996",
   "metadata": {
    "papermill": {
     "duration": 0.019242,
     "end_time": "2024-01-10T11:32:04.917772",
     "exception": false,
     "start_time": "2024-01-10T11:32:04.898530",
     "status": "completed"
    },
    "tags": []
   },
   "source": [
    "We can plot the stock prices as a function of time. "
   ]
  },
  {
   "cell_type": "code",
   "execution_count": 78,
   "id": "f9b06514",
   "metadata": {
    "execution": {
     "iopub.execute_input": "2024-01-10T11:32:04.959032Z",
     "iopub.status.busy": "2024-01-10T11:32:04.958640Z",
     "iopub.status.idle": "2024-01-10T11:32:05.730967Z",
     "shell.execute_reply": "2024-01-10T11:32:05.730053Z"
    },
    "papermill": {
     "duration": 0.795828,
     "end_time": "2024-01-10T11:32:05.733189",
     "exception": false,
     "start_time": "2024-01-10T11:32:04.937361",
     "status": "completed"
    },
    "tags": []
   },
   "outputs": [
    {
     "data": {
      "image/png": "[encoded data removed]",
      "text/plain": [
       "<Figure size 1200x900 with 1 Axes>"
      ]
     },
     "metadata": {},
     "output_type": "display_data"
    }
   ],
   "source": [
    "from matplotlib import pyplot as plt\n",
    "\n",
    "plt.rcParams[\"figure.figsize\"] = (12, 9)\n",
    "zm = amz_df.plot(x=\"Date\", y=[\"Close\", \"Open\", \"High\", \"Low\"])"
   ]
  },
  {
   "cell_type": "markdown",
   "id": "08c539b9",
   "metadata": {
    "papermill": {
     "duration": 0.020444,
     "end_time": "2024-01-10T11:32:05.774826",
     "exception": false,
     "start_time": "2024-01-10T11:32:05.754382",
     "status": "completed"
    },
    "tags": []
   },
   "source": [
    "We would like to repeat the same analysis for the validation and testing set, to make sure that they follow a similar distribution and that there are no surprising errors there. We create a function to do that.\n",
    "\n"
   ]
  },
  {
   "cell_type": "code",
   "execution_count": 79,
   "id": "94415b45",
   "metadata": {
    "execution": {
     "iopub.execute_input": "2024-01-10T11:32:05.819597Z",
     "iopub.status.busy": "2024-01-10T11:32:05.818813Z",
     "iopub.status.idle": "2024-01-10T11:32:05.825536Z",
     "shell.execute_reply": "2024-01-10T11:32:05.824704Z"
    },
    "papermill": {
     "duration": 0.031702,
     "end_time": "2024-01-10T11:32:05.827823",
     "exception": false,
     "start_time": "2024-01-10T11:32:05.796121",
     "status": "completed"
    },
    "tags": []
   },
   "outputs": [],
   "source": [
    "def analyse(dataframe):\n",
    "    \"\"\"Runs an exploration analysis of the dataframe.\"\"\"\n",
    "    print(\"Shape\", dataframe.shape, \"\\n\")\n",
    "    print(\"Columns\", dataframe.columns, \"\\n\")\n",
    "    dataframe.info()\n",
    "    print(\"\\n\", dataframe.describe(), \"\\n\")\n",
    "    print(\"The data ranges from\", dataframe[\"Date\"].min(), \"to\", dataframe[\"Date\"].max())\n",
    "    dataframe.plot(x=\"Date\", y=[\"Close\", \"Open\", \"High\", \"Low\"])"
   ]
  },
  {
   "cell_type": "code",
   "execution_count": 80,
   "id": "36bdbf48",
   "metadata": {
    "execution": {
     "iopub.execute_input": "2024-01-10T11:32:05.871165Z",
     "iopub.status.busy": "2024-01-10T11:32:05.870721Z",
     "iopub.status.idle": "2024-01-10T11:32:06.300578Z",
     "shell.execute_reply": "2024-01-10T11:32:06.299255Z"
    },
    "papermill": {
     "duration": 0.454906,
     "end_time": "2024-01-10T11:32:06.303419",
     "exception": false,
     "start_time": "2024-01-10T11:32:05.848513",
     "status": "completed"
    },
    "tags": []
   },
   "outputs": [
    {
     "name": "stdout",
     "output_type": "stream",
     "text": [
      "Shape (503, 7) \n",
      "\n",
      "Columns Index(['Date', 'Open', 'High', 'Low', 'Close', 'Adj Close', 'Volume'], dtype='object') \n",
      "\n",
      "<class 'pandas.core.frame.DataFrame'>\n",
      "RangeIndex: 503 entries, 0 to 502\n",
      "Data columns (total 7 columns):\n",
      " #   Column     Non-Null Count  Dtype  \n",
      "---  ------     --------------  -----  \n",
      " 0   Date       503 non-null    object \n",
      " 1   Open       503 non-null    float64\n",
      " 2   High       503 non-null    float64\n",
      " 3   Low        503 non-null    float64\n",
      " 4   Close      503 non-null    float64\n",
      " 5   Adj Close  503 non-null    float64\n",
      " 6   Volume     503 non-null    int64  \n",
      "dtypes: float64(5), int64(1), object(1)\n",
      "memory usage: 27.6+ KB\n",
      "\n",
      "               Open         High          Low        Close    Adj Close  \\\n",
      "count   503.000000   503.000000   503.000000   503.000000   503.000000   \n",
      "mean    992.201292   999.898131   982.574513   991.828966   991.828966   \n",
      "std     255.496588   259.220381   250.100614   254.885469   254.885469   \n",
      "min     689.559998   696.820007   682.119995   691.359985   691.359985   \n",
      "25%     780.500000   785.625000   772.410004   780.294983   780.294983   \n",
      "50%     948.000000   954.400024   941.140015   948.229980   948.229980   \n",
      "75%    1125.349976  1131.750000  1120.369995  1126.500000  1126.500000   \n",
      "max    1634.010010  1638.099976  1603.439941  1609.079956  1609.079956   \n",
      "\n",
      "             Volume  \n",
      "count  5.030000e+02  \n",
      "mean   3.918924e+06  \n",
      "std    2.069197e+06  \n",
      "min    1.458800e+06  \n",
      "25%    2.655050e+06  \n",
      "50%    3.324800e+06  \n",
      "75%    4.469000e+06  \n",
      "max    1.656500e+07   \n",
      "\n",
      "The data ranges from 2016-05-16 to 2018-05-14\n"
     ]
    },
    {
     "data": {
      "image/png": "[encoded data removed]",
      "text/plain": [
       "<Figure size 1200x900 with 1 Axes>"
      ]
     },
     "metadata": {},
     "output_type": "display_data"
    }
   ],
   "source": [
    "analyse(amz_val_df)"
   ]
  },
  {
   "cell_type": "code",
   "execution_count": 81,
   "id": "13815457",
   "metadata": {
    "execution": {
     "iopub.execute_input": "2024-01-10T11:32:06.351329Z",
     "iopub.status.busy": "2024-01-10T11:32:06.350284Z",
     "iopub.status.idle": "2024-01-10T11:32:06.784857Z",
     "shell.execute_reply": "2024-01-10T11:32:06.783500Z"
    },
    "papermill": {
     "duration": 0.462466,
     "end_time": "2024-01-10T11:32:06.788312",
     "exception": false,
     "start_time": "2024-01-10T11:32:06.325846",
     "status": "completed"
    },
    "tags": []
   },
   "outputs": [
    {
     "name": "stdout",
     "output_type": "stream",
     "text": [
      "Shape (504, 7) \n",
      "\n",
      "Columns Index(['Date', 'Open', 'High', 'Low', 'Close', 'Adj Close', 'Volume'], dtype='object') \n",
      "\n",
      "<class 'pandas.core.frame.DataFrame'>\n",
      "RangeIndex: 504 entries, 0 to 503\n",
      "Data columns (total 7 columns):\n",
      " #   Column     Non-Null Count  Dtype  \n",
      "---  ------     --------------  -----  \n",
      " 0   Date       504 non-null    object \n",
      " 1   Open       504 non-null    float64\n",
      " 2   High       504 non-null    float64\n",
      " 3   Low        504 non-null    float64\n",
      " 4   Close      504 non-null    float64\n",
      " 5   Adj Close  504 non-null    float64\n",
      " 6   Volume     504 non-null    int64  \n",
      "dtypes: float64(5), int64(1), object(1)\n",
      "memory usage: 27.7+ KB\n",
      "\n",
      "               Open         High          Low        Close    Adj Close  \\\n",
      "count   504.000000   504.000000   504.000000   504.000000   504.000000   \n",
      "mean   1823.927758  1843.069246  1803.067065  1824.040536  1824.040536   \n",
      "std     178.129809   179.294163   177.457741   178.470078   178.470078   \n",
      "min    1346.000000  1396.030029  1307.000000  1343.959961  1343.959961   \n",
      "25%    1712.924988  1730.602447  1691.637543  1713.642517  1713.642517   \n",
      "50%    1806.539978  1824.244995  1791.289978  1806.119995  1806.119995   \n",
      "75%    1908.154968  1921.580048  1887.580017  1902.842468  1902.842468   \n",
      "max    2443.199951  2475.000000  2396.010010  2474.000000  2474.000000   \n",
      "\n",
      "             Volume  \n",
      "count  5.040000e+02  \n",
      "mean   4.705042e+06  \n",
      "std    2.288185e+06  \n",
      "min    8.813000e+05  \n",
      "25%    3.078725e+06  \n",
      "50%    4.068450e+06  \n",
      "75%    5.763300e+06  \n",
      "max    1.556730e+07   \n",
      "\n",
      "The data ranges from 2018-05-15 to 2020-05-14\n"
     ]
    },
    {
     "data": {
      "image/png": "[encoded data removed]",
      "text/plain": [
       "<Figure size 1200x900 with 1 Axes>"
      ]
     },
     "metadata": {},
     "output_type": "display_data"
    }
   ],
   "source": [
    "analyse(amz_test_df)"
   ]
  },
  {
   "cell_type": "markdown",
   "id": "b5f2161c",
   "metadata": {
    "papermill": {
     "duration": 0.024202,
     "end_time": "2024-01-10T11:32:06.837739",
     "exception": false,
     "start_time": "2024-01-10T11:32:06.813537",
     "status": "completed"
    },
    "tags": []
   },
   "source": [
    "Now we done with our exploration of the data, we can move on to the predictive modeling part of the task. The task was to predict if the next day's closing price will be higher than the opening price. We do not have that information explicitly in our data, so we have to infer it.\n",
    "\n",
    "This is relatively simple, we just need to compare the closing and opening prices one day in advance.\n",
    "\n",
    "To achieve that, first, we will make sure that the data is sorted by the date. We can use the sort_values method and pass in the Date column as a parameter, sorting it in ascending order.\n",
    "\n",
    "Next, we need to shift the DataFrame by one row / one day and compare the prices. Pandas has a method for doing exactly that, the shift method. We specify a period of minus one (so that we shift the data from the next day back). Because it is a logical operation, Pandas would return a True / False result for each comparison. We want this to be presented as 1 / 0 for the machine learning models, so we will map it to type int. To store all of this information, we will create a new column, called Target."
   ]
  },
  {
   "cell_type": "code",
   "execution_count": 82,
   "id": "6affe65c",
   "metadata": {
    "execution": {
     "iopub.execute_input": "2024-01-10T11:32:06.888631Z",
     "iopub.status.busy": "2024-01-10T11:32:06.888244Z",
     "iopub.status.idle": "2024-01-10T11:32:06.896190Z",
     "shell.execute_reply": "2024-01-10T11:32:06.895350Z"
    },
    "papermill": {
     "duration": 0.036098,
     "end_time": "2024-01-10T11:32:06.898289",
     "exception": false,
     "start_time": "2024-01-10T11:32:06.862191",
     "status": "completed"
    },
    "tags": []
   },
   "outputs": [],
   "source": [
    "# make sure that our data is sorted by date\n",
    "amz_df.sort_values(by=\"Date\", inplace=True)\n",
    "amz_val_df.sort_values(by=\"Date\", inplace=True)\n",
    "amz_test_df.sort_values(by=\"Date\", inplace=True)\n"
   ]
  },
  {
   "cell_type": "code",
   "execution_count": 83,
   "id": "723cacad",
   "metadata": {
    "execution": {
     "iopub.execute_input": "2024-01-10T11:32:06.949797Z",
     "iopub.status.busy": "2024-01-10T11:32:06.948606Z",
     "iopub.status.idle": "2024-01-10T11:32:06.956571Z",
     "shell.execute_reply": "2024-01-10T11:32:06.955739Z"
    },
    "papermill": {
     "duration": 0.03596,
     "end_time": "2024-01-10T11:32:06.958719",
     "exception": false,
     "start_time": "2024-01-10T11:32:06.922759",
     "status": "completed"
    },
    "tags": []
   },
   "outputs": [],
   "source": [
    "# notice that we shift by a period of '-1', this takes the next day's price direction for the current day\n",
    "# a positive period will take the days from the past\n",
    "amz_df[\"Target\"] = (amz_df[\"Close\"] > amz_df[\"Open\"]).shift(periods=-1, fill_value=0).astype(int)"
   ]
  },
  {
   "cell_type": "code",
   "execution_count": 84,
   "id": "aeee08b3",
   "metadata": {
    "execution": {
     "iopub.execute_input": "2024-01-10T11:32:07.009286Z",
     "iopub.status.busy": "2024-01-10T11:32:07.008842Z",
     "iopub.status.idle": "2024-01-10T11:32:07.019242Z",
     "shell.execute_reply": "2024-01-10T11:32:07.017545Z"
    },
    "papermill": {
     "duration": 0.038404,
     "end_time": "2024-01-10T11:32:07.021703",
     "exception": false,
     "start_time": "2024-01-10T11:32:06.983299",
     "status": "completed"
    },
    "tags": []
   },
   "outputs": [
    {
     "data": {
      "text/plain": [
       "Target\n",
       "1    2392\n",
       "0    2389\n",
       "Name: count, dtype: int64"
      ]
     },
     "execution_count": 84,
     "metadata": {},
     "output_type": "execute_result"
    }
   ],
   "source": [
    "amz_df.head()\n",
    "amz_df[\"Target\"].value_counts()"
   ]
  },
  {
   "cell_type": "markdown",
   "id": "8cd395b0",
   "metadata": {
    "papermill": {
     "duration": 0.024009,
     "end_time": "2024-01-10T11:32:07.070365",
     "exception": false,
     "start_time": "2024-01-10T11:32:07.046356",
     "status": "completed"
    },
    "tags": []
   },
   "source": [
    "Running the value_counts method on the Target column gives us the distribution. We have 2392 days where the closing price is higher than the opening and 2389 where it is lower.\n",
    "\n",
    "\n"
   ]
  },
  {
   "cell_type": "markdown",
   "id": "b8bf0694",
   "metadata": {
    "papermill": {
     "duration": 0.023932,
     "end_time": "2024-01-10T11:32:07.118648",
     "exception": false,
     "start_time": "2024-01-10T11:32:07.094716",
     "status": "completed"
    },
    "tags": []
   },
   "source": [
    "We will define a function shift which will perform the same task of shift for the other 2 datasets i.e amz_val_df & amz_test_df."
   ]
  },
  {
   "cell_type": "code",
   "execution_count": 85,
   "id": "064f5b2d",
   "metadata": {
    "execution": {
     "iopub.execute_input": "2024-01-10T11:32:07.169216Z",
     "iopub.status.busy": "2024-01-10T11:32:07.168822Z",
     "iopub.status.idle": "2024-01-10T11:32:07.174947Z",
     "shell.execute_reply": "2024-01-10T11:32:07.173739Z"
    },
    "papermill": {
     "duration": 0.034299,
     "end_time": "2024-01-10T11:32:07.177305",
     "exception": false,
     "start_time": "2024-01-10T11:32:07.143006",
     "status": "completed"
    },
    "tags": []
   },
   "outputs": [],
   "source": [
    "def shift(df):\n",
    "    df[\"Target\"] = (df[\"Close\"] > df[\"Open\"]).shift(periods=-1, fill_value=0).astype(int)\n",
    "    return df[\"Target\"].value_counts()"
   ]
  },
  {
   "cell_type": "code",
   "execution_count": 86,
   "id": "c2eb848c",
   "metadata": {
    "execution": {
     "iopub.execute_input": "2024-01-10T11:32:07.229277Z",
     "iopub.status.busy": "2024-01-10T11:32:07.228258Z",
     "iopub.status.idle": "2024-01-10T11:32:07.238361Z",
     "shell.execute_reply": "2024-01-10T11:32:07.237164Z"
    },
    "papermill": {
     "duration": 0.038465,
     "end_time": "2024-01-10T11:32:07.240763",
     "exception": false,
     "start_time": "2024-01-10T11:32:07.202298",
     "status": "completed"
    },
    "tags": []
   },
   "outputs": [
    {
     "data": {
      "text/plain": [
       "Target\n",
       "0    255\n",
       "1    248\n",
       "Name: count, dtype: int64"
      ]
     },
     "execution_count": 86,
     "metadata": {},
     "output_type": "execute_result"
    }
   ],
   "source": [
    "shift(amz_val_df)"
   ]
  },
  {
   "cell_type": "code",
   "execution_count": 87,
   "id": "5124c8d8",
   "metadata": {
    "execution": {
     "iopub.execute_input": "2024-01-10T11:32:07.293505Z",
     "iopub.status.busy": "2024-01-10T11:32:07.293088Z",
     "iopub.status.idle": "2024-01-10T11:32:07.303552Z",
     "shell.execute_reply": "2024-01-10T11:32:07.302444Z"
    },
    "papermill": {
     "duration": 0.040076,
     "end_time": "2024-01-10T11:32:07.306135",
     "exception": false,
     "start_time": "2024-01-10T11:32:07.266059",
     "status": "completed"
    },
    "tags": []
   },
   "outputs": [
    {
     "data": {
      "text/plain": [
       "Target\n",
       "1    255\n",
       "0    249\n",
       "Name: count, dtype: int64"
      ]
     },
     "execution_count": 87,
     "metadata": {},
     "output_type": "execute_result"
    }
   ],
   "source": [
    "shift(amz_test_df)"
   ]
  },
  {
   "cell_type": "markdown",
   "id": "8f38cd6f",
   "metadata": {
    "papermill": {
     "duration": 0.025577,
     "end_time": "2024-01-10T11:32:07.357283",
     "exception": false,
     "start_time": "2024-01-10T11:32:07.331706",
     "status": "completed"
    },
    "tags": []
   },
   "source": [
    "At this point, we can start building some machine learning models to predict the target variable. But, before we do that, it might be useful to engineer some additional features that may help us better predict the price direction. In the next section, we will explore some possibilities for doing feature engineering.\n",
    "\n"
   ]
  },
  {
   "cell_type": "markdown",
   "id": "eb8b6a5f",
   "metadata": {
    "papermill": {
     "duration": 0.024296,
     "end_time": "2024-01-10T11:32:07.406949",
     "exception": false,
     "start_time": "2024-01-10T11:32:07.382653",
     "status": "completed"
    },
    "tags": []
   },
   "source": [
    "## Feature Engineering\n",
    "We know that the stock prices are time-dependent and that the next day's price depends on prices (and many other things) from previous days.\n",
    "\n",
    "We want to somehow take into account all the values in the last n days, capturing the trend, or the magnitude of price change.\n",
    "\n",
    "A simple solution would be to calculate a moving average. With Pandas, we can use the rolling method to calculate moving averages. It provides us with an interface for sliding (in Pandas terminology - rolling) window calculations. The following cells calculate the 3- and 7-days moving average, and add them as a feature into the data set.\n",
    "\n",
    "Remember that we have our data sorted from before. If the data is not sorted by the date, the results from the rolling() method would be invalid."
   ]
  },
  {
   "cell_type": "code",
   "execution_count": 88,
   "id": "dba3c2a2",
   "metadata": {
    "execution": {
     "iopub.execute_input": "2024-01-10T11:32:07.461188Z",
     "iopub.status.busy": "2024-01-10T11:32:07.459898Z",
     "iopub.status.idle": "2024-01-10T11:32:07.471275Z",
     "shell.execute_reply": "2024-01-10T11:32:07.470351Z"
    },
    "papermill": {
     "duration": 0.040131,
     "end_time": "2024-01-10T11:32:07.474017",
     "exception": false,
     "start_time": "2024-01-10T11:32:07.433886",
     "status": "completed"
    },
    "tags": []
   },
   "outputs": [],
   "source": [
    "amz_df[\"Moving_Average_3\"] = (amz_df[\"Close\"] - amz_df[\"Open\"]).rolling(window=3, min_periods=1).mean()\n",
    "amz_val_df[\"Moving_Average_3\"] = (amz_val_df[\"Close\"] - amz_val_df[\"Open\"]).rolling(window=3, min_periods=1).mean()\n",
    "amz_test_df[\"Moving_Average_3\"] = (amz_test_df[\"Close\"] - amz_test_df[\"Open\"]).rolling(window=3, min_periods=1).mean()\n"
   ]
  },
  {
   "cell_type": "code",
   "execution_count": 89,
   "id": "c298b06d",
   "metadata": {
    "execution": {
     "iopub.execute_input": "2024-01-10T11:32:07.528672Z",
     "iopub.status.busy": "2024-01-10T11:32:07.527545Z",
     "iopub.status.idle": "2024-01-10T11:32:07.539380Z",
     "shell.execute_reply": "2024-01-10T11:32:07.538147Z"
    },
    "papermill": {
     "duration": 0.042309,
     "end_time": "2024-01-10T11:32:07.542269",
     "exception": false,
     "start_time": "2024-01-10T11:32:07.499960",
     "status": "completed"
    },
    "tags": []
   },
   "outputs": [],
   "source": [
    "amz_df[\"Moving_Average_7\"] = (amz_df[\"Close\"] - amz_df[\"Open\"]).rolling(window=7, min_periods=1).mean()\n",
    "amz_val_df[\"Moving_Average_7\"] = (amz_val_df[\"Close\"] - amz_val_df[\"Open\"]).rolling(window=7, min_periods=1).mean()\n",
    "amz_test_df[\"Moving_Average_7\"] = (amz_test_df[\"Close\"] - amz_test_df[\"Open\"]).rolling(window=7, min_periods=1).mean()\n"
   ]
  },
  {
   "cell_type": "code",
   "execution_count": 90,
   "id": "48d7b06d",
   "metadata": {
    "execution": {
     "iopub.execute_input": "2024-01-10T11:32:07.595158Z",
     "iopub.status.busy": "2024-01-10T11:32:07.594667Z",
     "iopub.status.idle": "2024-01-10T11:32:07.603020Z",
     "shell.execute_reply": "2024-01-10T11:32:07.601817Z"
    },
    "papermill": {
     "duration": 0.037789,
     "end_time": "2024-01-10T11:32:07.605508",
     "exception": false,
     "start_time": "2024-01-10T11:32:07.567719",
     "status": "completed"
    },
    "tags": []
   },
   "outputs": [],
   "source": [
    "amz_df[\"Today_Direction\"] = amz_df[\"Close\"] - amz_df[\"Open\"]\n",
    "amz_val_df[\"Today_Direction\"] = amz_val_df[\"Close\"] - amz_val_df[\"Open\"]\n",
    "amz_test_df[\"Today_Direction\"] = amz_test_df[\"Close\"] - amz_test_df[\"Open\"]\n"
   ]
  },
  {
   "cell_type": "code",
   "execution_count": 91,
   "id": "8e6252e7",
   "metadata": {
    "execution": {
     "iopub.execute_input": "2024-01-10T11:32:07.658577Z",
     "iopub.status.busy": "2024-01-10T11:32:07.658152Z",
     "iopub.status.idle": "2024-01-10T11:32:07.667542Z",
     "shell.execute_reply": "2024-01-10T11:32:07.666348Z"
    },
    "papermill": {
     "duration": 0.039155,
     "end_time": "2024-01-10T11:32:07.670267",
     "exception": false,
     "start_time": "2024-01-10T11:32:07.631112",
     "status": "completed"
    },
    "tags": []
   },
   "outputs": [],
   "source": [
    "amz_df[\"Price_Range\"] = amz_df[\"High\"] - amz_df[\"Low\"]\n",
    "amz_val_df[\"Price_Range\"] = amz_val_df[\"High\"] - amz_val_df[\"Low\"]\n",
    "amz_test_df[\"Price_Range\"] = amz_test_df[\"High\"] - amz_test_df[\"Low\"]\n"
   ]
  },
  {
   "cell_type": "code",
   "execution_count": 92,
   "id": "9def98a8",
   "metadata": {
    "execution": {
     "iopub.execute_input": "2024-01-10T11:32:07.723358Z",
     "iopub.status.busy": "2024-01-10T11:32:07.722146Z",
     "iopub.status.idle": "2024-01-10T11:32:07.745391Z",
     "shell.execute_reply": "2024-01-10T11:32:07.744179Z"
    },
    "papermill": {
     "duration": 0.052389,
     "end_time": "2024-01-10T11:32:07.748190",
     "exception": false,
     "start_time": "2024-01-10T11:32:07.695801",
     "status": "completed"
    },
    "tags": []
   },
   "outputs": [
    {
     "data": {
      "text/html": [
       "<div>\n",
       "<style scoped>\n",
       "    .dataframe tbody tr th:only-of-type {\n",
       "        vertical-align: middle;\n",
       "    }\n",
       "\n",
       "    .dataframe tbody tr th {\n",
       "        vertical-align: top;\n",
       "    }\n",
       "\n",
       "    .dataframe thead th {\n",
       "        text-align: right;\n",
       "    }\n",
       "</style>\n",
       "<table border=\"1\" class=\"dataframe\">\n",
       "  <thead>\n",
       "    <tr style=\"text-align: right;\">\n",
       "      <th></th>\n",
       "      <th>Date</th>\n",
       "      <th>Open</th>\n",
       "      <th>High</th>\n",
       "      <th>Low</th>\n",
       "      <th>Close</th>\n",
       "      <th>Adj Close</th>\n",
       "      <th>Volume</th>\n",
       "      <th>Target</th>\n",
       "      <th>Moving_Average_3</th>\n",
       "      <th>Moving_Average_7</th>\n",
       "      <th>Today_Direction</th>\n",
       "      <th>Price_Range</th>\n",
       "    </tr>\n",
       "  </thead>\n",
       "  <tbody>\n",
       "    <tr>\n",
       "      <th>1637</th>\n",
       "      <td>2003-11-17</td>\n",
       "      <td>51.919998</td>\n",
       "      <td>52.189999</td>\n",
       "      <td>49.580002</td>\n",
       "      <td>50.360001</td>\n",
       "      <td>50.360001</td>\n",
       "      <td>12996900</td>\n",
       "      <td>0</td>\n",
       "      <td>-0.926666</td>\n",
       "      <td>-0.585714</td>\n",
       "      <td>-1.559997</td>\n",
       "      <td>2.609997</td>\n",
       "    </tr>\n",
       "    <tr>\n",
       "      <th>956</th>\n",
       "      <td>2001-03-01</td>\n",
       "      <td>9.875000</td>\n",
       "      <td>10.687500</td>\n",
       "      <td>9.593750</td>\n",
       "      <td>10.437500</td>\n",
       "      <td>10.437500</td>\n",
       "      <td>10996700</td>\n",
       "      <td>0</td>\n",
       "      <td>-0.187500</td>\n",
       "      <td>-0.160714</td>\n",
       "      <td>0.562500</td>\n",
       "      <td>1.093750</td>\n",
       "    </tr>\n",
       "    <tr>\n",
       "      <th>3375</th>\n",
       "      <td>2010-10-13</td>\n",
       "      <td>156.690002</td>\n",
       "      <td>156.789993</td>\n",
       "      <td>153.850006</td>\n",
       "      <td>155.169998</td>\n",
       "      <td>155.169998</td>\n",
       "      <td>5632800</td>\n",
       "      <td>1</td>\n",
       "      <td>0.196666</td>\n",
       "      <td>-0.098572</td>\n",
       "      <td>-1.520004</td>\n",
       "      <td>2.939987</td>\n",
       "    </tr>\n",
       "    <tr>\n",
       "      <th>3983</th>\n",
       "      <td>2013-03-15</td>\n",
       "      <td>264.980011</td>\n",
       "      <td>267.260010</td>\n",
       "      <td>260.049988</td>\n",
       "      <td>261.820007</td>\n",
       "      <td>261.820007</td>\n",
       "      <td>4865900</td>\n",
       "      <td>0</td>\n",
       "      <td>-2.410004</td>\n",
       "      <td>-1.045715</td>\n",
       "      <td>-3.160004</td>\n",
       "      <td>7.210022</td>\n",
       "    </tr>\n",
       "    <tr>\n",
       "      <th>4709</th>\n",
       "      <td>2016-02-02</td>\n",
       "      <td>570.000000</td>\n",
       "      <td>571.559998</td>\n",
       "      <td>550.090027</td>\n",
       "      <td>552.099976</td>\n",
       "      <td>552.099976</td>\n",
       "      <td>6312000</td>\n",
       "      <td>0</td>\n",
       "      <td>-2.073343</td>\n",
       "      <td>-0.220005</td>\n",
       "      <td>-17.900024</td>\n",
       "      <td>21.469971</td>\n",
       "    </tr>\n",
       "  </tbody>\n",
       "</table>\n",
       "</div>"
      ],
      "text/plain": [
       "           Date        Open        High         Low       Close   Adj Close  \\\n",
       "1637 2003-11-17   51.919998   52.189999   49.580002   50.360001   50.360001   \n",
       "956  2001-03-01    9.875000   10.687500    9.593750   10.437500   10.437500   \n",
       "3375 2010-10-13  156.690002  156.789993  153.850006  155.169998  155.169998   \n",
       "3983 2013-03-15  264.980011  267.260010  260.049988  261.820007  261.820007   \n",
       "4709 2016-02-02  570.000000  571.559998  550.090027  552.099976  552.099976   \n",
       "\n",
       "        Volume  Target  Moving_Average_3  Moving_Average_7  Today_Direction  \\\n",
       "1637  12996900       0         -0.926666         -0.585714        -1.559997   \n",
       "956   10996700       0         -0.187500         -0.160714         0.562500   \n",
       "3375   5632800       1          0.196666         -0.098572        -1.520004   \n",
       "3983   4865900       0         -2.410004         -1.045715        -3.160004   \n",
       "4709   6312000       0         -2.073343         -0.220005       -17.900024   \n",
       "\n",
       "      Price_Range  \n",
       "1637     2.609997  \n",
       "956      1.093750  \n",
       "3375     2.939987  \n",
       "3983     7.210022  \n",
       "4709    21.469971  "
      ]
     },
     "execution_count": 92,
     "metadata": {},
     "output_type": "execute_result"
    }
   ],
   "source": [
    "# Displaying results\n",
    "amz_df.sample(5, random_state=2)"
   ]
  },
  {
   "cell_type": "markdown",
   "id": "56754b93",
   "metadata": {
    "papermill": {
     "duration": 0.024991,
     "end_time": "2024-01-10T11:32:07.798656",
     "exception": false,
     "start_time": "2024-01-10T11:32:07.773665",
     "status": "completed"
    },
    "tags": []
   },
   "source": [
    "## Machine Learning Models\n",
    "Now we will move on to implementing different machine learning algorithms which are generally used for time series & stock price prediction use cases. \n",
    "- Logistic regression\n",
    "- Decision tree\n",
    "- Random forest\n",
    "- Gradient boosting ensemble\n",
    "\n",
    "So, we will be defining a function called test_model which will train, fit and evaluate the dataset."
   ]
  },
  {
   "cell_type": "code",
   "execution_count": 93,
   "id": "8b707cfb",
   "metadata": {
    "execution": {
     "iopub.execute_input": "2024-01-10T11:32:07.853215Z",
     "iopub.status.busy": "2024-01-10T11:32:07.852823Z",
     "iopub.status.idle": "2024-01-10T11:32:09.407109Z",
     "shell.execute_reply": "2024-01-10T11:32:09.405789Z"
    },
    "papermill": {
     "duration": 1.584502,
     "end_time": "2024-01-10T11:32:09.410055",
     "exception": false,
     "start_time": "2024-01-10T11:32:07.825553",
     "status": "completed"
    },
    "tags": []
   },
   "outputs": [],
   "source": [
    "from sklearn.metrics import accuracy_score, classification_report\n",
    "from sklearn.linear_model import LogisticRegression\n",
    "from sklearn.tree import DecisionTreeClassifier\n",
    "from sklearn.ensemble import RandomForestClassifier, GradientBoostingClassifier\n",
    "\n",
    "def test_model(train_df, val_df, test_df, X_cols, y_col):\n",
    "    # Extracting features and target variable\n",
    "    X_train, y_train = train_df[X_cols], train_df[y_col]\n",
    "    X_val, y_val = val_df[X_cols], val_df[y_col]\n",
    "    X_test, y_test = test_df[X_cols], test_df[y_col]\n",
    "\n",
    "    # Logistic Regression\n",
    "    lr_model = LogisticRegression()\n",
    "    lr_model.fit(X_train, y_train)\n",
    "    lr_predictions = lr_model.predict(X_val)\n",
    "    lr_accuracy = accuracy_score(y_val, lr_predictions)\n",
    "    print(\"Logistic Regression:\")\n",
    "    print(f\"Accuracy on Validation Set: {lr_accuracy:.4f}\")\n",
    "    print(classification_report(y_val, lr_predictions))\n",
    "\n",
    "    # Decision Tree\n",
    "    dt_model = DecisionTreeClassifier()\n",
    "    dt_model.fit(X_train, y_train)\n",
    "    dt_predictions = dt_model.predict(X_val)\n",
    "    dt_accuracy = accuracy_score(y_val, dt_predictions)\n",
    "    print(\"\\nDecision Tree:\")\n",
    "    print(f\"Accuracy on Validation Set: {dt_accuracy:.4f}\")\n",
    "    print(classification_report(y_val, dt_predictions))\n",
    "\n",
    "    # Random Forest\n",
    "    rf_model = RandomForestClassifier()\n",
    "    rf_model.fit(X_train, y_train)\n",
    "    rf_predictions = rf_model.predict(X_val)\n",
    "    rf_accuracy = accuracy_score(y_val, rf_predictions)\n",
    "    print(\"\\nRandom Forest:\")\n",
    "    print(f\"Accuracy on Validation Set: {rf_accuracy:.4f}\")\n",
    "    print(classification_report(y_val, rf_predictions))\n",
    "\n",
    "    # Gradient Boosting\n",
    "    gb_model = GradientBoostingClassifier()\n",
    "    gb_model.fit(X_train, y_train)\n",
    "    gb_predictions = gb_model.predict(X_val)\n",
    "    gb_accuracy = accuracy_score(y_val, gb_predictions)\n",
    "    print(\"\\nGradient Boosting:\")\n",
    "    print(f\"Accuracy on Validation Set: {gb_accuracy:.4f}\")\n",
    "    print(classification_report(y_val, gb_predictions))\n",
    "\n",
    "# Define target and input features\n",
    "y_col = \"Target\"\n",
    "X_cols = [\n",
    "    \"Open\",\n",
    "    \"Close\",\n",
    "    \"High\",\n",
    "    \"Low\",\n",
    "    \"Volume\",\n",
    "    \"Adj Close\",\n",
    "    \"Today_Direction\",\n",
    "    \"Price_Range\",\n",
    "    \"Moving_Average_3\",\n",
    "    \"Moving_Average_7\"\n",
    "]"
   ]
  },
  {
   "cell_type": "code",
   "execution_count": 94,
   "id": "af9c0bd5",
   "metadata": {
    "execution": {
     "iopub.execute_input": "2024-01-10T11:32:09.463397Z",
     "iopub.status.busy": "2024-01-10T11:32:09.462955Z",
     "iopub.status.idle": "2024-01-10T11:32:14.027392Z",
     "shell.execute_reply": "2024-01-10T11:32:14.026239Z"
    },
    "papermill": {
     "duration": 4.593722,
     "end_time": "2024-01-10T11:32:14.029901",
     "exception": false,
     "start_time": "2024-01-10T11:32:09.436179",
     "status": "completed"
    },
    "tags": []
   },
   "outputs": [
    {
     "name": "stdout",
     "output_type": "stream",
     "text": [
      "Logistic Regression:\n",
      "Accuracy on Validation Set: 0.5070\n",
      "              precision    recall  f1-score   support\n",
      "\n",
      "           0       0.51      1.00      0.67       255\n",
      "           1       0.00      0.00      0.00       248\n",
      "\n",
      "    accuracy                           0.51       503\n",
      "   macro avg       0.25      0.50      0.34       503\n",
      "weighted avg       0.26      0.51      0.34       503\n",
      "\n",
      "\n",
      "Decision Tree:\n",
      "Accuracy on Validation Set: 0.5288\n",
      "              precision    recall  f1-score   support\n",
      "\n",
      "           0       0.52      0.82      0.64       255\n",
      "           1       0.55      0.23      0.32       248\n",
      "\n",
      "    accuracy                           0.53       503\n",
      "   macro avg       0.54      0.52      0.48       503\n",
      "weighted avg       0.54      0.53      0.48       503\n",
      "\n"
     ]
    },
    {
     "name": "stderr",
     "output_type": "stream",
     "text": [
      "/Users/witchapatissariyawat/.pyenv/versions/stock-machinelearning/lib/python3.10/site-packages/sklearn/metrics/_classification.py:1565: UndefinedMetricWarning: Precision is ill-defined and being set to 0.0 in labels with no predicted samples. Use `zero_division` parameter to control this behavior.\n",
      "  _warn_prf(average, modifier, f\"{metric.capitalize()} is\", len(result))\n",
      "/Users/witchapatissariyawat/.pyenv/versions/stock-machinelearning/lib/python3.10/site-packages/sklearn/metrics/_classification.py:1565: UndefinedMetricWarning: Precision is ill-defined and being set to 0.0 in labels with no predicted samples. Use `zero_division` parameter to control this behavior.\n",
      "  _warn_prf(average, modifier, f\"{metric.capitalize()} is\", len(result))\n",
      "/Users/witchapatissariyawat/.pyenv/versions/stock-machinelearning/lib/python3.10/site-packages/sklearn/metrics/_classification.py:1565: UndefinedMetricWarning: Precision is ill-defined and being set to 0.0 in labels with no predicted samples. Use `zero_division` parameter to control this behavior.\n",
      "  _warn_prf(average, modifier, f\"{metric.capitalize()} is\", len(result))\n"
     ]
    },
    {
     "name": "stdout",
     "output_type": "stream",
     "text": [
      "\n",
      "Random Forest:\n",
      "Accuracy on Validation Set: 0.5189\n",
      "              precision    recall  f1-score   support\n",
      "\n",
      "           0       0.51      0.89      0.65       255\n",
      "           1       0.55      0.13      0.21       248\n",
      "\n",
      "    accuracy                           0.52       503\n",
      "   macro avg       0.53      0.51      0.43       503\n",
      "weighted avg       0.53      0.52      0.44       503\n",
      "\n",
      "\n",
      "Gradient Boosting:\n",
      "Accuracy on Validation Set: 0.5089\n",
      "              precision    recall  f1-score   support\n",
      "\n",
      "           0       0.51      0.97      0.67       255\n",
      "           1       0.53      0.04      0.07       248\n",
      "\n",
      "    accuracy                           0.51       503\n",
      "   macro avg       0.52      0.50      0.37       503\n",
      "weighted avg       0.52      0.51      0.37       503\n",
      "\n"
     ]
    }
   ],
   "source": [
    "# Apply the function to the datasets\n",
    "test_model(amz_df, amz_val_df, amz_test_df, X_cols, y_col)"
   ]
  },
  {
   "cell_type": "markdown",
   "id": "86ab9463",
   "metadata": {
    "papermill": {
     "duration": 0.025567,
     "end_time": "2024-01-10T11:32:14.082088",
     "exception": false,
     "start_time": "2024-01-10T11:32:14.056521",
     "status": "completed"
    },
    "tags": []
   },
   "source": [
    "Indeed it does, the gradient boosting classifier & Decision Tree outperform previous models and scored 52.09%!\n",
    "\n",
    "We find out that gradient boosting & Decision Tree works best for this data set. In the next section, we will train a deep learning model with the aim to outperform the baseline set here, i.e., Accuracy = 52.09%"
   ]
  },
  {
   "cell_type": "markdown",
   "id": "8adc1a52",
   "metadata": {
    "papermill": {
     "duration": 0.025693,
     "end_time": "2024-01-10T11:32:14.133098",
     "exception": false,
     "start_time": "2024-01-10T11:32:14.107405",
     "status": "completed"
    },
    "tags": []
   },
   "source": [
    "## Deep Learning Model"
   ]
  },
  {
   "cell_type": "code",
   "execution_count": 95,
   "id": "efa6f519",
   "metadata": {
    "execution": {
     "iopub.execute_input": "2024-01-10T11:32:14.187473Z",
     "iopub.status.busy": "2024-01-10T11:32:14.186130Z",
     "iopub.status.idle": "2024-01-10T11:32:26.981299Z",
     "shell.execute_reply": "2024-01-10T11:32:26.979785Z"
    },
    "papermill": {
     "duration": 12.824534,
     "end_time": "2024-01-10T11:32:26.983834",
     "exception": false,
     "start_time": "2024-01-10T11:32:14.159300",
     "status": "completed"
    },
    "tags": []
   },
   "outputs": [
    {
     "name": "stdout",
     "output_type": "stream",
     "text": [
      "Tensorflow version 2.13.0\n"
     ]
    }
   ],
   "source": [
    "import tensorflow as tf\n",
    "\n",
    "RANDOM_SEED=0.42\n",
    "# set seed for reproducibility of results\n",
    "tf.random.set_seed(RANDOM_SEED)\n",
    "\n",
    "print(\"Tensorflow version\", tf.__version__)"
   ]
  },
  {
   "cell_type": "code",
   "execution_count": 96,
   "id": "df30a6a9",
   "metadata": {
    "execution": {
     "iopub.execute_input": "2024-01-10T11:32:27.037842Z",
     "iopub.status.busy": "2024-01-10T11:32:27.037102Z",
     "iopub.status.idle": "2024-01-10T11:32:27.045930Z",
     "shell.execute_reply": "2024-01-10T11:32:27.045103Z"
    },
    "papermill": {
     "duration": 0.038039,
     "end_time": "2024-01-10T11:32:27.047951",
     "exception": false,
     "start_time": "2024-01-10T11:32:27.009912",
     "status": "completed"
    },
    "tags": []
   },
   "outputs": [],
   "source": [
    "cols=[\"Open\",\n",
    "    \"Close\",\n",
    "    \"High\",\n",
    "    \"Low\",\n",
    "    \"Volume\",\n",
    "    \"Adj Close\",\n",
    "    \"Today_Direction\",\n",
    "    \"Price_Range\",\n",
    "    \"Moving_Average_3\",\n",
    "    \"Moving_Average_7\"]\n",
    "\n",
    "\n",
    "X_train= amz_df[cols]\n",
    "y_train=amz_df['Target']\n",
    "X_val= amz_val_df[cols]\n",
    "y_val= amz_val_df['Target']"
   ]
  },
  {
   "cell_type": "code",
   "execution_count": 97,
   "id": "05cceab9",
   "metadata": {
    "execution": {
     "iopub.execute_input": "2024-01-10T11:32:27.105129Z",
     "iopub.status.busy": "2024-01-10T11:32:27.104369Z",
     "iopub.status.idle": "2024-01-10T11:32:27.339296Z",
     "shell.execute_reply": "2024-01-10T11:32:27.337889Z"
    },
    "papermill": {
     "duration": 0.267145,
     "end_time": "2024-01-10T11:32:27.342140",
     "exception": false,
     "start_time": "2024-01-10T11:32:27.074995",
     "status": "completed"
    },
    "tags": []
   },
   "outputs": [],
   "source": [
    "model = tf.keras.models.Sequential([\n",
    "    tf.keras.layers.Normalization(axis=-1),\n",
    "    tf.keras.layers.Dense(10, input_shape=[X_train.shape[1],], activation=\"relu\", kernel_initializer='random_normal', bias_initializer='zeros'),\n",
    "    tf.keras.layers.Dropout(0.2),\n",
    "    tf.keras.layers.Dense(5, activation=\"relu\", kernel_initializer='random_normal', bias_initializer='zeros'),\n",
    "    tf.keras.layers.Dense(1, activation=\"sigmoid\", kernel_initializer='random_normal', bias_initializer='zeros')\n",
    "])"
   ]
  },
  {
   "cell_type": "code",
   "execution_count": 98,
   "id": "5c77532a",
   "metadata": {
    "execution": {
     "iopub.execute_input": "2024-01-10T11:32:27.395315Z",
     "iopub.status.busy": "2024-01-10T11:32:27.394859Z",
     "iopub.status.idle": "2024-01-10T11:32:27.424093Z",
     "shell.execute_reply": "2024-01-10T11:32:27.422876Z"
    },
    "papermill": {
     "duration": 0.059035,
     "end_time": "2024-01-10T11:32:27.426946",
     "exception": false,
     "start_time": "2024-01-10T11:32:27.367911",
     "status": "completed"
    },
    "tags": []
   },
   "outputs": [
    {
     "name": "stderr",
     "output_type": "stream",
     "text": [
      "WARNING:absl:At this time, the v2.11+ optimizer `tf.keras.optimizers.Adam` runs slowly on M1/M2 Macs, please use the legacy Keras optimizer instead, located at `tf.keras.optimizers.legacy.Adam`.\n",
      "WARNING:absl:There is a known slowdown when using v2.11+ Keras optimizers on M1/M2 Macs. Falling back to the legacy Keras optimizer, i.e., `tf.keras.optimizers.legacy.Adam`.\n"
     ]
    }
   ],
   "source": [
    "# this configures the model's loss function, weight optimizer, and metrics to keep track of\n",
    "model.compile(\n",
    "    loss=\"binary_crossentropy\", \n",
    "    optimizer=tf.keras.optimizers.Adam(), \n",
    "    metrics=['AUC']\n",
    ")"
   ]
  },
  {
   "cell_type": "markdown",
   "id": "ef240253",
   "metadata": {
    "papermill": {
     "duration": 0.025385,
     "end_time": "2024-01-10T11:32:27.480645",
     "exception": false,
     "start_time": "2024-01-10T11:32:27.455260",
     "status": "completed"
    },
    "tags": []
   },
   "source": [
    "We are going to train our model for 50 epochs, and keep track of its loss (binary_crossentropy) and AUC values during each epoch.\n",
    "To prevent overfitting, we are implementing two callbacks: (1) learning rate scheduler, and (2) early stopping callback."
   ]
  },
  {
   "cell_type": "code",
   "execution_count": 99,
   "id": "40ddeb23",
   "metadata": {
    "execution": {
     "iopub.execute_input": "2024-01-10T11:32:27.534122Z",
     "iopub.status.busy": "2024-01-10T11:32:27.533677Z",
     "iopub.status.idle": "2024-01-10T11:32:27.540512Z",
     "shell.execute_reply": "2024-01-10T11:32:27.539446Z"
    },
    "papermill": {
     "duration": 0.036008,
     "end_time": "2024-01-10T11:32:27.542691",
     "exception": false,
     "start_time": "2024-01-10T11:32:27.506683",
     "status": "completed"
    },
    "tags": []
   },
   "outputs": [],
   "source": [
    "def learning_rate_scheduler(epoch, learning_rate):\n",
    "    \"\"\"Learning rate decay callback.\"\"\"\n",
    "    if epoch < 5:\n",
    "        return learning_rate\n",
    "    else:\n",
    "        return learning_rate * tf.math.exp(-0.01)\n",
    "\n",
    "early_stopping_callback = tf.keras.callbacks.EarlyStopping(patience=10, verbose=1, restore_best_weights=True)\n",
    "learning_rate_callback = tf.keras.callbacks.LearningRateScheduler(learning_rate_scheduler)"
   ]
  },
  {
   "cell_type": "code",
   "execution_count": 100,
   "id": "4a5681c4",
   "metadata": {},
   "outputs": [
    {
     "name": "stdout",
     "output_type": "stream",
     "text": [
      "Epoch 1/50\n",
      "150/150 [==============================] - 0s 764us/step - loss: 155.4588 - auc: 0.5143 - val_loss: 6.8623 - val_auc: 0.5020 - lr: 0.0010\n",
      "Epoch 2/50\n",
      "150/150 [==============================] - 0s 340us/step - loss: 5.0364 - auc: 0.5033 - val_loss: 4.0208 - val_auc: 0.4815 - lr: 0.0010\n",
      "Epoch 3/50\n",
      "150/150 [==============================] - 0s 326us/step - loss: 3.0191 - auc: 0.4995 - val_loss: 1.5773 - val_auc: 0.5099 - lr: 0.0010\n",
      "Epoch 4/50\n",
      "150/150 [==============================] - 0s 345us/step - loss: 2.4835 - auc: 0.4990 - val_loss: 0.8864 - val_auc: 0.5084 - lr: 0.0010\n",
      "Epoch 5/50\n",
      "150/150 [==============================] - 0s 330us/step - loss: 1.5849 - auc: 0.5005 - val_loss: 0.7240 - val_auc: 0.5117 - lr: 0.0010\n",
      "Epoch 6/50\n",
      "150/150 [==============================] - 0s 330us/step - loss: 1.2641 - auc: 0.5036 - val_loss: 0.8221 - val_auc: 0.4900 - lr: 9.9005e-04\n",
      "Epoch 7/50\n",
      "150/150 [==============================] - 0s 323us/step - loss: 1.0752 - auc: 0.5027 - val_loss: 0.7919 - val_auc: 0.5103 - lr: 9.8020e-04\n",
      "Epoch 8/50\n",
      "150/150 [==============================] - 0s 329us/step - loss: 0.8417 - auc: 0.4896 - val_loss: 0.8117 - val_auc: 0.4912 - lr: 9.7045e-04\n",
      "Epoch 9/50\n",
      "150/150 [==============================] - 0s 325us/step - loss: 0.8502 - auc: 0.4933 - val_loss: 0.7125 - val_auc: 0.4897 - lr: 9.6079e-04\n",
      "Epoch 10/50\n",
      "150/150 [==============================] - 0s 324us/step - loss: 0.7948 - auc: 0.4822 - val_loss: 0.7745 - val_auc: 0.4907 - lr: 9.5123e-04\n",
      "Epoch 11/50\n",
      "150/150 [==============================] - 0s 323us/step - loss: 0.7877 - auc: 0.4922 - val_loss: 0.7172 - val_auc: 0.4901 - lr: 9.4176e-04\n",
      "Epoch 12/50\n",
      "150/150 [==============================] - 0s 322us/step - loss: 0.7342 - auc: 0.4987 - val_loss: 0.6933 - val_auc: 0.5217 - lr: 9.3239e-04\n",
      "Epoch 13/50\n",
      "150/150 [==============================] - 0s 324us/step - loss: 0.7030 - auc: 0.5031 - val_loss: 0.6934 - val_auc: 0.4934 - lr: 9.2312e-04\n",
      "Epoch 14/50\n",
      "150/150 [==============================] - 0s 326us/step - loss: 0.7135 - auc: 0.4900 - val_loss: 0.6932 - val_auc: 0.4939 - lr: 9.1393e-04\n",
      "Epoch 15/50\n",
      "150/150 [==============================] - 0s 322us/step - loss: 0.6982 - auc: 0.4966 - val_loss: 0.6939 - val_auc: 0.4992 - lr: 9.0484e-04\n",
      "Epoch 16/50\n",
      "150/150 [==============================] - 0s 321us/step - loss: 0.6961 - auc: 0.5096 - val_loss: 0.6938 - val_auc: 0.4942 - lr: 8.9583e-04\n",
      "Epoch 17/50\n",
      "150/150 [==============================] - 0s 327us/step - loss: 0.6942 - auc: 0.5007 - val_loss: 0.6931 - val_auc: 0.5000 - lr: 8.8692e-04\n",
      "Epoch 18/50\n",
      "150/150 [==============================] - 0s 323us/step - loss: 0.6933 - auc: 0.4983 - val_loss: 0.6931 - val_auc: 0.4779 - lr: 8.7810e-04\n",
      "Epoch 19/50\n",
      "150/150 [==============================] - 0s 321us/step - loss: 0.6933 - auc: 0.4985 - val_loss: 0.6931 - val_auc: 0.5000 - lr: 8.6936e-04\n",
      "Epoch 20/50\n",
      "150/150 [==============================] - 0s 321us/step - loss: 0.6932 - auc: 0.5047 - val_loss: 0.6931 - val_auc: 0.5160 - lr: 8.6071e-04\n",
      "Epoch 21/50\n",
      "150/150 [==============================] - 0s 322us/step - loss: 0.6932 - auc: 0.5000 - val_loss: 0.6931 - val_auc: 0.5000 - lr: 8.5214e-04\n",
      "Epoch 22/50\n",
      "150/150 [==============================] - 0s 328us/step - loss: 0.6932 - auc: 0.5009 - val_loss: 0.6931 - val_auc: 0.5000 - lr: 8.4366e-04\n",
      "Epoch 23/50\n",
      "150/150 [==============================] - 0s 321us/step - loss: 0.6933 - auc: 0.5058 - val_loss: 0.6931 - val_auc: 0.5058 - lr: 8.3527e-04\n",
      "Epoch 24/50\n",
      "150/150 [==============================] - 0s 323us/step - loss: 0.6932 - auc: 0.4974 - val_loss: 0.6931 - val_auc: 0.5063 - lr: 8.2696e-04\n",
      "Epoch 25/50\n",
      "150/150 [==============================] - 0s 325us/step - loss: 0.6933 - auc: 0.4783 - val_loss: 0.6931 - val_auc: 0.5000 - lr: 8.1873e-04\n",
      "Epoch 26/50\n",
      "150/150 [==============================] - 0s 322us/step - loss: 0.6932 - auc: 0.5000 - val_loss: 0.6931 - val_auc: 0.5000 - lr: 8.1058e-04\n",
      "Epoch 27/50\n",
      "150/150 [==============================] - 0s 321us/step - loss: 0.6932 - auc: 0.5000 - val_loss: 0.6931 - val_auc: 0.5000 - lr: 8.0252e-04\n",
      "Epoch 28/50\n",
      "150/150 [==============================] - 0s 320us/step - loss: 0.6932 - auc: 0.5000 - val_loss: 0.6931 - val_auc: 0.5000 - lr: 7.9453e-04\n",
      "Epoch 29/50\n",
      "150/150 [==============================] - 0s 322us/step - loss: 0.6932 - auc: 0.5000 - val_loss: 0.6932 - val_auc: 0.5000 - lr: 7.8663e-04\n",
      "Epoch 30/50\n",
      "150/150 [==============================] - 0s 322us/step - loss: 0.6932 - auc: 0.5000 - val_loss: 0.6932 - val_auc: 0.5000 - lr: 7.7880e-04\n",
      "Epoch 31/50\n",
      "147/150 [============================>.] - ETA: 0s - loss: 0.6932 - auc: 0.5000Restoring model weights from the end of the best epoch: 21.\n",
      "150/150 [==============================] - 0s 514us/step - loss: 0.6932 - auc: 0.5000 - val_loss: 0.6931 - val_auc: 0.5000 - lr: 7.7105e-04\n",
      "Epoch 31: early stopping\n"
     ]
    }
   ],
   "source": [
    "# the model.fit(...) method returns a 'history' object with stats about the training\n",
    "history = model.fit(\n",
    "    x=X_train,\n",
    "    y=y_train,\n",
    "    validation_data=(X_val, y_val),\n",
    "    epochs=50,\n",
    "    verbose=1,\n",
    "    callbacks=[early_stopping_callback, learning_rate_callback])"
   ]
  },
  {
   "cell_type": "markdown",
   "id": "df450bde",
   "metadata": {
    "papermill": {
     "duration": 0.04402,
     "end_time": "2024-01-10T11:32:37.770983",
     "exception": false,
     "start_time": "2024-01-10T11:32:37.726963",
     "status": "completed"
    },
    "tags": []
   },
   "source": [
    "We observe that both the training and the validation AUC are very close to 0.5, improving the overall score only over the logistic regression model.\n",
    "\n"
   ]
  },
  {
   "cell_type": "code",
   "execution_count": 101,
   "id": "93020c78",
   "metadata": {
    "execution": {
     "iopub.execute_input": "2024-01-10T11:32:37.862283Z",
     "iopub.status.busy": "2024-01-10T11:32:37.861826Z",
     "iopub.status.idle": "2024-01-10T11:32:37.892406Z",
     "shell.execute_reply": "2024-01-10T11:32:37.890671Z"
    },
    "papermill": {
     "duration": 0.084092,
     "end_time": "2024-01-10T11:32:37.898830",
     "exception": false,
     "start_time": "2024-01-10T11:32:37.814738",
     "status": "completed"
    },
    "tags": []
   },
   "outputs": [
    {
     "name": "stdout",
     "output_type": "stream",
     "text": [
      "Model: \"sequential_1\"\n",
      "_________________________________________________________________\n",
      " Layer (type)                Output Shape              Param #   \n",
      "=================================================================\n",
      " normalization_1 (Normaliza  (None, 10)                21        \n",
      " tion)                                                           \n",
      "                                                                 \n",
      " dense_3 (Dense)             (None, 10)                110       \n",
      "                                                                 \n",
      " dropout_1 (Dropout)         (None, 10)                0         \n",
      "                                                                 \n",
      " dense_4 (Dense)             (None, 5)                 55        \n",
      "                                                                 \n",
      " dense_5 (Dense)             (None, 1)                 6         \n",
      "                                                                 \n",
      "=================================================================\n",
      "Total params: 192 (772.00 Byte)\n",
      "Trainable params: 171 (684.00 Byte)\n",
      "Non-trainable params: 21 (88.00 Byte)\n",
      "_________________________________________________________________\n"
     ]
    }
   ],
   "source": [
    "model.summary()"
   ]
  },
  {
   "cell_type": "markdown",
   "id": "4d75fefd",
   "metadata": {
    "papermill": {
     "duration": 0.046127,
     "end_time": "2024-01-10T11:32:37.990857",
     "exception": false,
     "start_time": "2024-01-10T11:32:37.944730",
     "status": "completed"
    },
    "tags": []
   },
   "source": [
    "Below, we plot the train and validation loss and AUC values as a function of the epoch. We use the matplotlib library, and the history object to do that."
   ]
  },
  {
   "cell_type": "code",
   "execution_count": 102,
   "id": "580281f9",
   "metadata": {
    "execution": {
     "iopub.execute_input": "2024-01-10T11:32:38.085087Z",
     "iopub.status.busy": "2024-01-10T11:32:38.084663Z",
     "iopub.status.idle": "2024-01-10T11:32:38.449672Z",
     "shell.execute_reply": "2024-01-10T11:32:38.448154Z"
    },
    "papermill": {
     "duration": 0.414249,
     "end_time": "2024-01-10T11:32:38.451973",
     "exception": false,
     "start_time": "2024-01-10T11:32:38.037724",
     "status": "completed"
    },
    "tags": []
   },
   "outputs": [
    {
     "data": {
      "image/png": "[encoded data removed]",
      "text/plain": [
       "<Figure size 1200x900 with 1 Axes>"
      ]
     },
     "metadata": {},
     "output_type": "display_data"
    }
   ],
   "source": [
    "from matplotlib import pyplot as plt\n",
    "\n",
    "plt.plot(history.history['loss'], label='loss')\n",
    "plt.plot(history.history['val_loss'], label='val_loss')\n",
    "plt.xlabel('Epoch')\n",
    "plt.ylabel('Error [Price]')\n",
    "plt.legend()\n",
    "plt.grid(True)"
   ]
  },
  {
   "cell_type": "code",
   "execution_count": 103,
   "id": "0a276de5",
   "metadata": {
    "execution": {
     "iopub.execute_input": "2024-01-10T11:32:38.549158Z",
     "iopub.status.busy": "2024-01-10T11:32:38.548686Z",
     "iopub.status.idle": "2024-01-10T11:32:38.944168Z",
     "shell.execute_reply": "2024-01-10T11:32:38.943084Z"
    },
    "papermill": {
     "duration": 0.447757,
     "end_time": "2024-01-10T11:32:38.947519",
     "exception": false,
     "start_time": "2024-01-10T11:32:38.499762",
     "status": "completed"
    },
    "tags": []
   },
   "outputs": [
    {
     "data": {
      "image/png": "[encoded data removed]",
      "text/plain": [
       "<Figure size 1200x900 with 1 Axes>"
      ]
     },
     "metadata": {},
     "output_type": "display_data"
    }
   ],
   "source": [
    "plt.plot(history.history['auc'], label='auc')\n",
    "plt.plot(history.history['val_auc'], label='val_auc')\n",
    "plt.xlabel('Epoch')\n",
    "plt.ylabel('Error [Price]')\n",
    "plt.legend()\n",
    "plt.grid(True)"
   ]
  },
  {
   "cell_type": "markdown",
   "id": "a840388b",
   "metadata": {
    "papermill": {
     "duration": 0.047239,
     "end_time": "2024-01-10T11:32:39.041815",
     "exception": false,
     "start_time": "2024-01-10T11:32:38.994576",
     "status": "completed"
    },
    "tags": []
   },
   "source": [
    "## Conclusion\n",
    "The gradient boosting classifier & Logisitic Classifier provided the best AUC score on the validation set. It is a common machine learning practice to train multiple models on the same train/validation data set and provide a model that works best. To simulate a production environment, we have held the test set aside until now.\n",
    "\n",
    "In the next cell, we are going to evaluate the performance of the gradient boosting classifier on the test set. This is simple as calling plot_roc_curve with the test set instead of the validation one.\n",
    "\n",
    "As a bonus, in the last cell, we are showing a feature importance plot, which plots the importance of each feature in regard to the predictive performance of the model (the higher the value the more important the feature is for determining the value of the target variable)."
   ]
  },
  {
   "cell_type": "code",
   "execution_count": 104,
   "id": "270ddc74",
   "metadata": {
    "execution": {
     "iopub.execute_input": "2024-01-10T11:32:39.138566Z",
     "iopub.status.busy": "2024-01-10T11:32:39.137504Z",
     "iopub.status.idle": "2024-01-10T11:32:41.086305Z",
     "shell.execute_reply": "2024-01-10T11:32:41.084865Z"
    },
    "papermill": {
     "duration": 2.000371,
     "end_time": "2024-01-10T11:32:41.089242",
     "exception": false,
     "start_time": "2024-01-10T11:32:39.088871",
     "status": "completed"
    },
    "tags": []
   },
   "outputs": [
    {
     "name": "stdout",
     "output_type": "stream",
     "text": [
      "\n",
      "Gradient Boosting:\n",
      "Accuracy on Test Set: 0.5000\n",
      "              precision    recall  f1-score   support\n",
      "\n",
      "           0       0.50      0.93      0.65       249\n",
      "           1       0.54      0.08      0.14       255\n",
      "\n",
      "    accuracy                           0.50       504\n",
      "   macro avg       0.52      0.51      0.39       504\n",
      "weighted avg       0.52      0.50      0.39       504\n",
      "\n",
      "\n",
      "Gradient Boosting:\n",
      "Accuracy on Test Set: 0.5000\n",
      "              precision    recall  f1-score   support\n",
      "\n",
      "           0       0.50      0.93      0.65       249\n",
      "           1       0.54      0.08      0.14       255\n",
      "\n",
      "    accuracy                           0.50       504\n",
      "   macro avg       0.52      0.51      0.39       504\n",
      "weighted avg       0.52      0.50      0.39       504\n",
      "\n"
     ]
    }
   ],
   "source": [
    "X_test=amz_test_df[cols]\n",
    "y_test=amz_test_df['Target']\n",
    "\n",
    "gb_model = GradientBoostingClassifier()\n",
    "gb_model.fit(X_train, y_train)\n",
    "gb_predictions = gb_model.predict(X_test)\n",
    "gb_accuracy = accuracy_score(y_test, gb_predictions)\n",
    "print(\"\\nGradient Boosting:\")\n",
    "print(f\"Accuracy on Test Set: {gb_accuracy:.4f}\")\n",
    "print(classification_report(y_test, gb_predictions))\n",
    "\n",
    "gb_accuracy = accuracy_score(y_test, gb_predictions)\n",
    "print(\"\\nGradient Boosting:\")\n",
    "print(f\"Accuracy on Test Set: {gb_accuracy:.4f}\")\n",
    "print(classification_report(y_test, gb_predictions))"
   ]
  },
  {
   "cell_type": "code",
   "execution_count": 105,
   "id": "bdad55f3",
   "metadata": {
    "execution": {
     "iopub.execute_input": "2024-01-10T11:32:41.189857Z",
     "iopub.status.busy": "2024-01-10T11:32:41.188690Z",
     "iopub.status.idle": "2024-01-10T11:32:41.233762Z",
     "shell.execute_reply": "2024-01-10T11:32:41.232609Z"
    },
    "papermill": {
     "duration": 0.100833,
     "end_time": "2024-01-10T11:32:41.238552",
     "exception": false,
     "start_time": "2024-01-10T11:32:41.137719",
     "status": "completed"
    },
    "tags": []
   },
   "outputs": [
    {
     "name": "stdout",
     "output_type": "stream",
     "text": [
      "Logistic Regression:\n",
      "Accuracy on Test Set: 0.4940\n",
      "              precision    recall  f1-score   support\n",
      "\n",
      "           0       0.49      1.00      0.66       249\n",
      "           1       0.00      0.00      0.00       255\n",
      "\n",
      "    accuracy                           0.49       504\n",
      "   macro avg       0.25      0.50      0.33       504\n",
      "weighted avg       0.24      0.49      0.33       504\n",
      "\n"
     ]
    },
    {
     "name": "stderr",
     "output_type": "stream",
     "text": [
      "/Users/witchapatissariyawat/.pyenv/versions/stock-machinelearning/lib/python3.10/site-packages/sklearn/metrics/_classification.py:1565: UndefinedMetricWarning: Precision is ill-defined and being set to 0.0 in labels with no predicted samples. Use `zero_division` parameter to control this behavior.\n",
      "  _warn_prf(average, modifier, f\"{metric.capitalize()} is\", len(result))\n",
      "/Users/witchapatissariyawat/.pyenv/versions/stock-machinelearning/lib/python3.10/site-packages/sklearn/metrics/_classification.py:1565: UndefinedMetricWarning: Precision is ill-defined and being set to 0.0 in labels with no predicted samples. Use `zero_division` parameter to control this behavior.\n",
      "  _warn_prf(average, modifier, f\"{metric.capitalize()} is\", len(result))\n",
      "/Users/witchapatissariyawat/.pyenv/versions/stock-machinelearning/lib/python3.10/site-packages/sklearn/metrics/_classification.py:1565: UndefinedMetricWarning: Precision is ill-defined and being set to 0.0 in labels with no predicted samples. Use `zero_division` parameter to control this behavior.\n",
      "  _warn_prf(average, modifier, f\"{metric.capitalize()} is\", len(result))\n"
     ]
    }
   ],
   "source": [
    "     # Logistic Regression\n",
    "lr_model = LogisticRegression()\n",
    "lr_model.fit(X_train, y_train)\n",
    "lr_predictions = lr_model.predict(X_test)\n",
    "lr_accuracy = accuracy_score(y_test, lr_predictions)\n",
    "print(\"Logistic Regression:\")\n",
    "print(f\"Accuracy on Test Set: {lr_accuracy:.4f}\")\n",
    "print(classification_report(y_test, lr_predictions))\n"
   ]
  },
  {
   "cell_type": "markdown",
   "id": "ff78667b",
   "metadata": {
    "papermill": {
     "duration": 0.047708,
     "end_time": "2024-01-10T11:32:41.380997",
     "exception": false,
     "start_time": "2024-01-10T11:32:41.333289",
     "status": "completed"
    },
    "tags": []
   },
   "source": [
    "## Hyper Paramter tuning\n",
    "From the above two models, Logistic Regression Classifier is performing better. So we will go for Logisitc Regressor for this project. Now we will perform Hyper parmater tuning to increase the accuracy of the model. To perform hyperparameter tuning for the Logistic Regression model, we'll use tools like Grid Search or Random Search along with cross-validation."
   ]
  },
  {
   "cell_type": "code",
   "execution_count": 106,
   "id": "d12c1e63",
   "metadata": {
    "execution": {
     "iopub.execute_input": "2024-01-10T11:32:41.480810Z",
     "iopub.status.busy": "2024-01-10T11:32:41.479644Z",
     "iopub.status.idle": "2024-01-10T11:32:46.557590Z",
     "shell.execute_reply": "2024-01-10T11:32:46.555694Z"
    },
    "papermill": {
     "duration": 5.13055,
     "end_time": "2024-01-10T11:32:46.560243",
     "exception": false,
     "start_time": "2024-01-10T11:32:41.429693",
     "status": "completed"
    },
    "tags": []
   },
   "outputs": [
    {
     "name": "stderr",
     "output_type": "stream",
     "text": [
      "/Users/witchapatissariyawat/.pyenv/versions/stock-machinelearning/lib/python3.10/site-packages/sklearn/svm/_base.py:1249: ConvergenceWarning: Liblinear failed to converge, increase the number of iterations.\n",
      "  warnings.warn(\n",
      "/Users/witchapatissariyawat/.pyenv/versions/stock-machinelearning/lib/python3.10/site-packages/sklearn/svm/_base.py:1249: ConvergenceWarning: Liblinear failed to converge, increase the number of iterations.\n",
      "  warnings.warn(\n",
      "/Users/witchapatissariyawat/.pyenv/versions/stock-machinelearning/lib/python3.10/site-packages/sklearn/svm/_base.py:1249: ConvergenceWarning: Liblinear failed to converge, increase the number of iterations.\n",
      "  warnings.warn(\n",
      "/Users/witchapatissariyawat/.pyenv/versions/stock-machinelearning/lib/python3.10/site-packages/sklearn/svm/_base.py:1249: ConvergenceWarning: Liblinear failed to converge, increase the number of iterations.\n",
      "  warnings.warn(\n"
     ]
    },
    {
     "name": "stdout",
     "output_type": "stream",
     "text": [
      "Best Hyperparameters: {'C': 1, 'penalty': 'l1', 'solver': 'liblinear'}\n",
      "\n",
      "Logistic Regression (with Hyperparameter Tuning):\n",
      "Accuracy on Test Set: 0.4940\n",
      "              precision    recall  f1-score   support\n",
      "\n",
      "           0       0.49      0.45      0.47       249\n",
      "           1       0.50      0.54      0.52       255\n",
      "\n",
      "    accuracy                           0.49       504\n",
      "   macro avg       0.49      0.49      0.49       504\n",
      "weighted avg       0.49      0.49      0.49       504\n",
      "\n"
     ]
    }
   ],
   "source": [
    "from sklearn.model_selection import GridSearchCV\n",
    "\n",
    "# Define the Logistic Regression model\n",
    "lr_model = LogisticRegression()\n",
    "\n",
    "# Define the hyperparameter grid to search\n",
    "param_grid = {\n",
    "    'C': [0.001, 0.01, 0.1, 1, 10, 100],  # Inverse of regularization strength\n",
    "    'penalty': ['l1', 'l2'],  # Regularization type\n",
    "    'solver': ['liblinear'],  # Solver for optimization problem\n",
    "}\n",
    "\n",
    "# Create a GridSearchCV object\n",
    "grid_search = GridSearchCV(lr_model, param_grid, cv=5, scoring='accuracy', n_jobs=-1)\n",
    "\n",
    "# Fit the model to the training data\n",
    "grid_search.fit(X_train, y_train)\n",
    "\n",
    "# Get the best hyperparameters\n",
    "best_params = grid_search.best_params_\n",
    "print(\"Best Hyperparameters:\", best_params)\n",
    "\n",
    "# Evaluate the model on the test set using the best hyperparameters\n",
    "best_lr_model = grid_search.best_estimator_\n",
    "lr_predictions = best_lr_model.predict(X_test)\n",
    "lr_accuracy = accuracy_score(y_test, lr_predictions)\n",
    "\n",
    "print(\"\\nLogistic Regression (with Hyperparameter Tuning):\")\n",
    "print(f\"Accuracy on Test Set: {lr_accuracy:.4f}\")\n",
    "print(classification_report(y_test, lr_predictions))\n"
   ]
  },
  {
   "cell_type": "markdown",
   "id": "e7efa005",
   "metadata": {
    "papermill": {
     "duration": 0.049134,
     "end_time": "2024-01-10T11:32:46.658095",
     "exception": false,
     "start_time": "2024-01-10T11:32:46.608961",
     "status": "completed"
    },
    "tags": []
   },
   "source": [
    "It's not uncommon for the accuracy to decrease after hyperparameter tuning. The reason behind this can be that the model might have been overfitting to the training data before tuning, and the hyperparameters selected during tuning may result in a more generalized model. But due to limited time, we will go for the Regressor without any hyperparameter tuning. But I'll breifly mention the steps how to deal with overfitting for this problem. \n",
    "Identifying and addressing overfitting is crucial to build a model that generalizes well to new, unseen data. Here are steps to find and overcome overfitting:\n",
    "\n",
    "## Steps to Identify Overfitting:\n",
    "1. Performance Comparison:\n",
    "   Evaluate the model on both the training and test sets.\n",
    "   Compare performance metrics such as accuracy, precision, recall, F1-score, and AUC on both sets.\n",
    "2. Learning Curves:\n",
    "   Plot learning curves to visualize the model's performance on both sets across different training set sizes\n",
    "   \n",
    "  "
   ]
  },
  {
   "cell_type": "code",
   "execution_count": 107,
   "id": "70705cc1",
   "metadata": {
    "execution": {
     "iopub.execute_input": "2024-01-10T11:32:46.756968Z",
     "iopub.status.busy": "2024-01-10T11:32:46.756548Z",
     "iopub.status.idle": "2024-01-10T11:32:46.779685Z",
     "shell.execute_reply": "2024-01-10T11:32:46.778549Z"
    },
    "papermill": {
     "duration": 0.077307,
     "end_time": "2024-01-10T11:32:46.783690",
     "exception": false,
     "start_time": "2024-01-10T11:32:46.706383",
     "status": "completed"
    },
    "tags": []
   },
   "outputs": [
    {
     "name": "stdout",
     "output_type": "stream",
     "text": [
      "Accuracy on Training Set: 0.5122359339050407\n",
      "Accuracy on Test Set: 0.49404761904761907\n"
     ]
    }
   ],
   "source": [
    "# Evaluate on the training set\n",
    "train_predictions = best_lr_model.predict(X_train)\n",
    "train_accuracy = accuracy_score(y_train, train_predictions)\n",
    "print(\"Accuracy on Training Set:\", train_accuracy)\n",
    "\n",
    "# Evaluate on the test set\n",
    "test_predictions = best_lr_model.predict(X_test)\n",
    "test_accuracy = accuracy_score(y_test, test_predictions)\n",
    "print(\"Accuracy on Test Set:\", test_accuracy)\n"
   ]
  },
  {
   "cell_type": "code",
   "execution_count": 108,
   "id": "b0f2faec",
   "metadata": {
    "execution": {
     "iopub.execute_input": "2024-01-10T11:32:46.937698Z",
     "iopub.status.busy": "2024-01-10T11:32:46.937317Z",
     "iopub.status.idle": "2024-01-10T11:32:48.070687Z",
     "shell.execute_reply": "2024-01-10T11:32:48.069561Z"
    },
    "papermill": {
     "duration": 1.186357,
     "end_time": "2024-01-10T11:32:48.073681",
     "exception": false,
     "start_time": "2024-01-10T11:32:46.887324",
     "status": "completed"
    },
    "tags": []
   },
   "outputs": [
    {
     "data": {
      "image/png": "[encoded data removed]",
      "text/plain": [
       "<Figure size 1000x600 with 1 Axes>"
      ]
     },
     "metadata": {},
     "output_type": "display_data"
    }
   ],
   "source": [
    "# Plotting Learning Curves\n",
    "from sklearn.model_selection import learning_curve\n",
    "\n",
    "train_sizes, train_scores, test_scores = learning_curve(\n",
    "    best_lr_model, X_train, y_train, cv=5, scoring='accuracy', n_jobs=-1)\n",
    "\n",
    "plt.figure(figsize=(10, 6))\n",
    "plt.plot(train_sizes, np.mean(train_scores, axis=1), label='Training Accuracy')\n",
    "plt.plot(train_sizes, np.mean(test_scores, axis=1), label='Test Accuracy')\n",
    "plt.xlabel('Training Set Size')\n",
    "plt.ylabel('Accuracy')\n",
    "plt.legend()\n",
    "plt.show()\n"
   ]
  },
  {
   "cell_type": "markdown",
   "id": "e0528272",
   "metadata": {
    "papermill": {
     "duration": 0.048655,
     "end_time": "2024-01-10T11:32:48.171501",
     "exception": false,
     "start_time": "2024-01-10T11:32:48.122846",
     "status": "completed"
    },
    "tags": []
   },
   "source": [
    "**There is a significant gap between the two curves, it indicates potential overfitting.**"
   ]
  },
  {
   "cell_type": "markdown",
   "id": "64ffb51d",
   "metadata": {
    "papermill": {
     "duration": 0.048678,
     "end_time": "2024-01-10T11:32:48.271150",
     "exception": false,
     "start_time": "2024-01-10T11:32:48.222472",
     "status": "completed"
    },
    "tags": []
   },
   "source": [
    "## Performing Regularization on the model"
   ]
  },
  {
   "cell_type": "code",
   "execution_count": 109,
   "id": "5262e6b4",
   "metadata": {
    "execution": {
     "iopub.execute_input": "2024-01-10T11:32:48.370658Z",
     "iopub.status.busy": "2024-01-10T11:32:48.370264Z",
     "iopub.status.idle": "2024-01-10T11:32:48.399055Z",
     "shell.execute_reply": "2024-01-10T11:32:48.397945Z"
    },
    "papermill": {
     "duration": 0.081707,
     "end_time": "2024-01-10T11:32:48.401711",
     "exception": false,
     "start_time": "2024-01-10T11:32:48.320004",
     "status": "completed"
    },
    "tags": []
   },
   "outputs": [
    {
     "data": {
      "text/html": [
       "<style>#sk-container-id-2 {\n",
       "  /* Definition of color scheme common for light and dark mode */\n",
       "  --sklearn-color-text: #000;\n",
       "  --sklearn-color-text-muted: #666;\n",
       "  --sklearn-color-line: gray;\n",
       "  /* Definition of color scheme for unfitted estimators */\n",
       "  --sklearn-color-unfitted-level-0: #fff5e6;\n",
       "  --sklearn-color-unfitted-level-1: #f6e4d2;\n",
       "  --sklearn-color-unfitted-level-2: #ffe0b3;\n",
       "  --sklearn-color-unfitted-level-3: chocolate;\n",
       "  /* Definition of color scheme for fitted estimators */\n",
       "  --sklearn-color-fitted-level-0: #f0f8ff;\n",
       "  --sklearn-color-fitted-level-1: #d4ebff;\n",
       "  --sklearn-color-fitted-level-2: #b3dbfd;\n",
       "  --sklearn-color-fitted-level-3: cornflowerblue;\n",
       "\n",
       "  /* Specific color for light theme */\n",
       "  --sklearn-color-text-on-default-background: var(--sg-text-color, var(--theme-code-foreground, var(--jp-content-font-color1, black)));\n",
       "  --sklearn-color-background: var(--sg-background-color, var(--theme-background, var(--jp-layout-color0, white)));\n",
       "  --sklearn-color-border-box: var(--sg-text-color, var(--theme-code-foreground, var(--jp-content-font-color1, black)));\n",
       "  --sklearn-color-icon: #696969;\n",
       "\n",
       "  @media (prefers-color-scheme: dark) {\n",
       "    /* Redefinition of color scheme for dark theme */\n",
       "    --sklearn-color-text-on-default-background: var(--sg-text-color, var(--theme-code-foreground, var(--jp-content-font-color1, white)));\n",
       "    --sklearn-color-background: var(--sg-background-color, var(--theme-background, var(--jp-layout-color0, #111)));\n",
       "    --sklearn-color-border-box: var(--sg-text-color, var(--theme-code-foreground, var(--jp-content-font-color1, white)));\n",
       "    --sklearn-color-icon: #878787;\n",
       "  }\n",
       "}\n",
       "\n",
       "#sk-container-id-2 {\n",
       "  color: var(--sklearn-color-text);\n",
       "}\n",
       "\n",
       "#sk-container-id-2 pre {\n",
       "  padding: 0;\n",
       "}\n",
       "\n",
       "#sk-container-id-2 input.sk-hidden--visually {\n",
       "  border: 0;\n",
       "  clip: rect(1px 1px 1px 1px);\n",
       "  clip: rect(1px, 1px, 1px, 1px);\n",
       "  height: 1px;\n",
       "  margin: -1px;\n",
       "  overflow: hidden;\n",
       "  padding: 0;\n",
       "  position: absolute;\n",
       "  width: 1px;\n",
       "}\n",
       "\n",
       "#sk-container-id-2 div.sk-dashed-wrapped {\n",
       "  border: 1px dashed var(--sklearn-color-line);\n",
       "  margin: 0 0.4em 0.5em 0.4em;\n",
       "  box-sizing: border-box;\n",
       "  padding-bottom: 0.4em;\n",
       "  background-color: var(--sklearn-color-background);\n",
       "}\n",
       "\n",
       "#sk-container-id-2 div.sk-container {\n",
       "  /* jupyter's `normalize.less` sets `[hidden] { display: none; }`\n",
       "     but bootstrap.min.css set `[hidden] { display: none !important; }`\n",
       "     so we also need the `!important` here to be able to override the\n",
       "     default hidden behavior on the sphinx rendered scikit-learn.org.\n",
       "     See: https://github.com/scikit-learn/scikit-learn/issues/21755 */\n",
       "  display: inline-block !important;\n",
       "  position: relative;\n",
       "}\n",
       "\n",
       "#sk-container-id-2 div.sk-text-repr-fallback {\n",
       "  display: none;\n",
       "}\n",
       "\n",
       "div.sk-parallel-item,\n",
       "div.sk-serial,\n",
       "div.sk-item {\n",
       "  /* draw centered vertical line to link estimators */\n",
       "  background-image: linear-gradient(var(--sklearn-color-text-on-default-background), var(--sklearn-color-text-on-default-background));\n",
       "  background-size: 2px 100%;\n",
       "  background-repeat: no-repeat;\n",
       "  background-position: center center;\n",
       "}\n",
       "\n",
       "/* Parallel-specific style estimator block */\n",
       "\n",
       "#sk-container-id-2 div.sk-parallel-item::after {\n",
       "  content: \"\";\n",
       "  width: 100%;\n",
       "  border-bottom: 2px solid var(--sklearn-color-text-on-default-background);\n",
       "  flex-grow: 1;\n",
       "}\n",
       "\n",
       "#sk-container-id-2 div.sk-parallel {\n",
       "  display: flex;\n",
       "  align-items: stretch;\n",
       "  justify-content: center;\n",
       "  background-color: var(--sklearn-color-background);\n",
       "  position: relative;\n",
       "}\n",
       "\n",
       "#sk-container-id-2 div.sk-parallel-item {\n",
       "  display: flex;\n",
       "  flex-direction: column;\n",
       "}\n",
       "\n",
       "#sk-container-id-2 div.sk-parallel-item:first-child::after {\n",
       "  align-self: flex-end;\n",
       "  width: 50%;\n",
       "}\n",
       "\n",
       "#sk-container-id-2 div.sk-parallel-item:last-child::after {\n",
       "  align-self: flex-start;\n",
       "  width: 50%;\n",
       "}\n",
       "\n",
       "#sk-container-id-2 div.sk-parallel-item:only-child::after {\n",
       "  width: 0;\n",
       "}\n",
       "\n",
       "/* Serial-specific style estimator block */\n",
       "\n",
       "#sk-container-id-2 div.sk-serial {\n",
       "  display: flex;\n",
       "  flex-direction: column;\n",
       "  align-items: center;\n",
       "  background-color: var(--sklearn-color-background);\n",
       "  padding-right: 1em;\n",
       "  padding-left: 1em;\n",
       "}\n",
       "\n",
       "\n",
       "/* Toggleable style: style used for estimator/Pipeline/ColumnTransformer box that is\n",
       "clickable and can be expanded/collapsed.\n",
       "- Pipeline and ColumnTransformer use this feature and define the default style\n",
       "- Estimators will overwrite some part of the style using the `sk-estimator` class\n",
       "*/\n",
       "\n",
       "/* Pipeline and ColumnTransformer style (default) */\n",
       "\n",
       "#sk-container-id-2 div.sk-toggleable {\n",
       "  /* Default theme specific background. It is overwritten whether we have a\n",
       "  specific estimator or a Pipeline/ColumnTransformer */\n",
       "  background-color: var(--sklearn-color-background);\n",
       "}\n",
       "\n",
       "/* Toggleable label */\n",
       "#sk-container-id-2 label.sk-toggleable__label {\n",
       "  cursor: pointer;\n",
       "  display: flex;\n",
       "  width: 100%;\n",
       "  margin-bottom: 0;\n",
       "  padding: 0.5em;\n",
       "  box-sizing: border-box;\n",
       "  text-align: center;\n",
       "  align-items: start;\n",
       "  justify-content: space-between;\n",
       "  gap: 0.5em;\n",
       "}\n",
       "\n",
       "#sk-container-id-2 label.sk-toggleable__label .caption {\n",
       "  font-size: 0.6rem;\n",
       "  font-weight: lighter;\n",
       "  color: var(--sklearn-color-text-muted);\n",
       "}\n",
       "\n",
       "#sk-container-id-2 label.sk-toggleable__label-arrow:before {\n",
       "  /* Arrow on the left of the label */\n",
       "  content: \"▸\";\n",
       "  float: left;\n",
       "  margin-right: 0.25em;\n",
       "  color: var(--sklearn-color-icon);\n",
       "}\n",
       "\n",
       "#sk-container-id-2 label.sk-toggleable__label-arrow:hover:before {\n",
       "  color: var(--sklearn-color-text);\n",
       "}\n",
       "\n",
       "/* Toggleable content - dropdown */\n",
       "\n",
       "#sk-container-id-2 div.sk-toggleable__content {\n",
       "  max-height: 0;\n",
       "  max-width: 0;\n",
       "  overflow: hidden;\n",
       "  text-align: left;\n",
       "  /* unfitted */\n",
       "  background-color: var(--sklearn-color-unfitted-level-0);\n",
       "}\n",
       "\n",
       "#sk-container-id-2 div.sk-toggleable__content.fitted {\n",
       "  /* fitted */\n",
       "  background-color: var(--sklearn-color-fitted-level-0);\n",
       "}\n",
       "\n",
       "#sk-container-id-2 div.sk-toggleable__content pre {\n",
       "  margin: 0.2em;\n",
       "  border-radius: 0.25em;\n",
       "  color: var(--sklearn-color-text);\n",
       "  /* unfitted */\n",
       "  background-color: var(--sklearn-color-unfitted-level-0);\n",
       "}\n",
       "\n",
       "#sk-container-id-2 div.sk-toggleable__content.fitted pre {\n",
       "  /* unfitted */\n",
       "  background-color: var(--sklearn-color-fitted-level-0);\n",
       "}\n",
       "\n",
       "#sk-container-id-2 input.sk-toggleable__control:checked~div.sk-toggleable__content {\n",
       "  /* Expand drop-down */\n",
       "  max-height: 200px;\n",
       "  max-width: 100%;\n",
       "  overflow: auto;\n",
       "}\n",
       "\n",
       "#sk-container-id-2 input.sk-toggleable__control:checked~label.sk-toggleable__label-arrow:before {\n",
       "  content: \"▾\";\n",
       "}\n",
       "\n",
       "/* Pipeline/ColumnTransformer-specific style */\n",
       "\n",
       "#sk-container-id-2 div.sk-label input.sk-toggleable__control:checked~label.sk-toggleable__label {\n",
       "  color: var(--sklearn-color-text);\n",
       "  background-color: var(--sklearn-color-unfitted-level-2);\n",
       "}\n",
       "\n",
       "#sk-container-id-2 div.sk-label.fitted input.sk-toggleable__control:checked~label.sk-toggleable__label {\n",
       "  background-color: var(--sklearn-color-fitted-level-2);\n",
       "}\n",
       "\n",
       "/* Estimator-specific style */\n",
       "\n",
       "/* Colorize estimator box */\n",
       "#sk-container-id-2 div.sk-estimator input.sk-toggleable__control:checked~label.sk-toggleable__label {\n",
       "  /* unfitted */\n",
       "  background-color: var(--sklearn-color-unfitted-level-2);\n",
       "}\n",
       "\n",
       "#sk-container-id-2 div.sk-estimator.fitted input.sk-toggleable__control:checked~label.sk-toggleable__label {\n",
       "  /* fitted */\n",
       "  background-color: var(--sklearn-color-fitted-level-2);\n",
       "}\n",
       "\n",
       "#sk-container-id-2 div.sk-label label.sk-toggleable__label,\n",
       "#sk-container-id-2 div.sk-label label {\n",
       "  /* The background is the default theme color */\n",
       "  color: var(--sklearn-color-text-on-default-background);\n",
       "}\n",
       "\n",
       "/* On hover, darken the color of the background */\n",
       "#sk-container-id-2 div.sk-label:hover label.sk-toggleable__label {\n",
       "  color: var(--sklearn-color-text);\n",
       "  background-color: var(--sklearn-color-unfitted-level-2);\n",
       "}\n",
       "\n",
       "/* Label box, darken color on hover, fitted */\n",
       "#sk-container-id-2 div.sk-label.fitted:hover label.sk-toggleable__label.fitted {\n",
       "  color: var(--sklearn-color-text);\n",
       "  background-color: var(--sklearn-color-fitted-level-2);\n",
       "}\n",
       "\n",
       "/* Estimator label */\n",
       "\n",
       "#sk-container-id-2 div.sk-label label {\n",
       "  font-family: monospace;\n",
       "  font-weight: bold;\n",
       "  display: inline-block;\n",
       "  line-height: 1.2em;\n",
       "}\n",
       "\n",
       "#sk-container-id-2 div.sk-label-container {\n",
       "  text-align: center;\n",
       "}\n",
       "\n",
       "/* Estimator-specific */\n",
       "#sk-container-id-2 div.sk-estimator {\n",
       "  font-family: monospace;\n",
       "  border: 1px dotted var(--sklearn-color-border-box);\n",
       "  border-radius: 0.25em;\n",
       "  box-sizing: border-box;\n",
       "  margin-bottom: 0.5em;\n",
       "  /* unfitted */\n",
       "  background-color: var(--sklearn-color-unfitted-level-0);\n",
       "}\n",
       "\n",
       "#sk-container-id-2 div.sk-estimator.fitted {\n",
       "  /* fitted */\n",
       "  background-color: var(--sklearn-color-fitted-level-0);\n",
       "}\n",
       "\n",
       "/* on hover */\n",
       "#sk-container-id-2 div.sk-estimator:hover {\n",
       "  /* unfitted */\n",
       "  background-color: var(--sklearn-color-unfitted-level-2);\n",
       "}\n",
       "\n",
       "#sk-container-id-2 div.sk-estimator.fitted:hover {\n",
       "  /* fitted */\n",
       "  background-color: var(--sklearn-color-fitted-level-2);\n",
       "}\n",
       "\n",
       "/* Specification for estimator info (e.g. \"i\" and \"?\") */\n",
       "\n",
       "/* Common style for \"i\" and \"?\" */\n",
       "\n",
       ".sk-estimator-doc-link,\n",
       "a:link.sk-estimator-doc-link,\n",
       "a:visited.sk-estimator-doc-link {\n",
       "  float: right;\n",
       "  font-size: smaller;\n",
       "  line-height: 1em;\n",
       "  font-family: monospace;\n",
       "  background-color: var(--sklearn-color-background);\n",
       "  border-radius: 1em;\n",
       "  height: 1em;\n",
       "  width: 1em;\n",
       "  text-decoration: none !important;\n",
       "  margin-left: 0.5em;\n",
       "  text-align: center;\n",
       "  /* unfitted */\n",
       "  border: var(--sklearn-color-unfitted-level-1) 1pt solid;\n",
       "  color: var(--sklearn-color-unfitted-level-1);\n",
       "}\n",
       "\n",
       ".sk-estimator-doc-link.fitted,\n",
       "a:link.sk-estimator-doc-link.fitted,\n",
       "a:visited.sk-estimator-doc-link.fitted {\n",
       "  /* fitted */\n",
       "  border: var(--sklearn-color-fitted-level-1) 1pt solid;\n",
       "  color: var(--sklearn-color-fitted-level-1);\n",
       "}\n",
       "\n",
       "/* On hover */\n",
       "div.sk-estimator:hover .sk-estimator-doc-link:hover,\n",
       ".sk-estimator-doc-link:hover,\n",
       "div.sk-label-container:hover .sk-estimator-doc-link:hover,\n",
       ".sk-estimator-doc-link:hover {\n",
       "  /* unfitted */\n",
       "  background-color: var(--sklearn-color-unfitted-level-3);\n",
       "  color: var(--sklearn-color-background);\n",
       "  text-decoration: none;\n",
       "}\n",
       "\n",
       "div.sk-estimator.fitted:hover .sk-estimator-doc-link.fitted:hover,\n",
       ".sk-estimator-doc-link.fitted:hover,\n",
       "div.sk-label-container:hover .sk-estimator-doc-link.fitted:hover,\n",
       ".sk-estimator-doc-link.fitted:hover {\n",
       "  /* fitted */\n",
       "  background-color: var(--sklearn-color-fitted-level-3);\n",
       "  color: var(--sklearn-color-background);\n",
       "  text-decoration: none;\n",
       "}\n",
       "\n",
       "/* Span, style for the box shown on hovering the info icon */\n",
       ".sk-estimator-doc-link span {\n",
       "  display: none;\n",
       "  z-index: 9999;\n",
       "  position: relative;\n",
       "  font-weight: normal;\n",
       "  right: .2ex;\n",
       "  padding: .5ex;\n",
       "  margin: .5ex;\n",
       "  width: min-content;\n",
       "  min-width: 20ex;\n",
       "  max-width: 50ex;\n",
       "  color: var(--sklearn-color-text);\n",
       "  box-shadow: 2pt 2pt 4pt #999;\n",
       "  /* unfitted */\n",
       "  background: var(--sklearn-color-unfitted-level-0);\n",
       "  border: .5pt solid var(--sklearn-color-unfitted-level-3);\n",
       "}\n",
       "\n",
       ".sk-estimator-doc-link.fitted span {\n",
       "  /* fitted */\n",
       "  background: var(--sklearn-color-fitted-level-0);\n",
       "  border: var(--sklearn-color-fitted-level-3);\n",
       "}\n",
       "\n",
       ".sk-estimator-doc-link:hover span {\n",
       "  display: block;\n",
       "}\n",
       "\n",
       "/* \"?\"-specific style due to the `<a>` HTML tag */\n",
       "\n",
       "#sk-container-id-2 a.estimator_doc_link {\n",
       "  float: right;\n",
       "  font-size: 1rem;\n",
       "  line-height: 1em;\n",
       "  font-family: monospace;\n",
       "  background-color: var(--sklearn-color-background);\n",
       "  border-radius: 1rem;\n",
       "  height: 1rem;\n",
       "  width: 1rem;\n",
       "  text-decoration: none;\n",
       "  /* unfitted */\n",
       "  color: var(--sklearn-color-unfitted-level-1);\n",
       "  border: var(--sklearn-color-unfitted-level-1) 1pt solid;\n",
       "}\n",
       "\n",
       "#sk-container-id-2 a.estimator_doc_link.fitted {\n",
       "  /* fitted */\n",
       "  border: var(--sklearn-color-fitted-level-1) 1pt solid;\n",
       "  color: var(--sklearn-color-fitted-level-1);\n",
       "}\n",
       "\n",
       "/* On hover */\n",
       "#sk-container-id-2 a.estimator_doc_link:hover {\n",
       "  /* unfitted */\n",
       "  background-color: var(--sklearn-color-unfitted-level-3);\n",
       "  color: var(--sklearn-color-background);\n",
       "  text-decoration: none;\n",
       "}\n",
       "\n",
       "#sk-container-id-2 a.estimator_doc_link.fitted:hover {\n",
       "  /* fitted */\n",
       "  background-color: var(--sklearn-color-fitted-level-3);\n",
       "}\n",
       "</style><div id=\"sk-container-id-2\" class=\"sk-top-container\"><div class=\"sk-text-repr-fallback\"><pre>LogisticRegression(C=0.1, solver=&#x27;liblinear&#x27;)</pre><b>In a Jupyter environment, please rerun this cell to show the HTML representation or trust the notebook. <br />On GitHub, the HTML representation is unable to render, please try loading this page with nbviewer.org.</b></div><div class=\"sk-container\" hidden><div class=\"sk-item\"><div class=\"sk-estimator fitted sk-toggleable\"><input class=\"sk-toggleable__control sk-hidden--visually\" id=\"sk-estimator-id-2\" type=\"checkbox\" checked><label for=\"sk-estimator-id-2\" class=\"sk-toggleable__label fitted sk-toggleable__label-arrow\"><div><div>LogisticRegression</div></div><div><a class=\"sk-estimator-doc-link fitted\" rel=\"noreferrer\" target=\"_blank\" href=\"https://scikit-learn.org/1.6/modules/generated/sklearn.linear_model.LogisticRegression.html\">?<span>Documentation for LogisticRegression</span></a><span class=\"sk-estimator-doc-link fitted\">i<span>Fitted</span></span></div></label><div class=\"sk-toggleable__content fitted\"><pre>LogisticRegression(C=0.1, solver=&#x27;liblinear&#x27;)</pre></div> </div></div></div></div>"
      ],
      "text/plain": [
       "LogisticRegression(C=0.1, solver='liblinear')"
      ]
     },
     "execution_count": 109,
     "metadata": {},
     "output_type": "execute_result"
    }
   ],
   "source": [
    "from sklearn.linear_model import LogisticRegression\n",
    "\n",
    "# Increase regularization strength\n",
    "tuned_lr_model = LogisticRegression(C=0.1, penalty='l2', solver='liblinear')\n",
    "tuned_lr_model.fit(X_train, y_train)"
   ]
  },
  {
   "cell_type": "code",
   "execution_count": 110,
   "id": "61ce5870",
   "metadata": {
    "execution": {
     "iopub.execute_input": "2024-01-10T11:32:48.505557Z",
     "iopub.status.busy": "2024-01-10T11:32:48.505158Z",
     "iopub.status.idle": "2024-01-10T11:32:48.545038Z",
     "shell.execute_reply": "2024-01-10T11:32:48.543869Z"
    },
    "papermill": {
     "duration": 0.095473,
     "end_time": "2024-01-10T11:32:48.547949",
     "exception": false,
     "start_time": "2024-01-10T11:32:48.452476",
     "status": "completed"
    },
    "tags": []
   },
   "outputs": [
    {
     "name": "stdout",
     "output_type": "stream",
     "text": [
      "Logistic Regression with Regularization:\n",
      "Accuracy on Test Set: 0.4940\n",
      "\n",
      "Classification Report:\n",
      "              precision    recall  f1-score   support\n",
      "\n",
      "           0       0.49      1.00      0.66       249\n",
      "           1       0.00      0.00      0.00       255\n",
      "\n",
      "    accuracy                           0.49       504\n",
      "   macro avg       0.25      0.50      0.33       504\n",
      "weighted avg       0.24      0.49      0.33       504\n",
      "\n"
     ]
    },
    {
     "name": "stderr",
     "output_type": "stream",
     "text": [
      "/Users/witchapatissariyawat/.pyenv/versions/stock-machinelearning/lib/python3.10/site-packages/sklearn/metrics/_classification.py:1565: UndefinedMetricWarning: Precision is ill-defined and being set to 0.0 in labels with no predicted samples. Use `zero_division` parameter to control this behavior.\n",
      "  _warn_prf(average, modifier, f\"{metric.capitalize()} is\", len(result))\n",
      "/Users/witchapatissariyawat/.pyenv/versions/stock-machinelearning/lib/python3.10/site-packages/sklearn/metrics/_classification.py:1565: UndefinedMetricWarning: Precision is ill-defined and being set to 0.0 in labels with no predicted samples. Use `zero_division` parameter to control this behavior.\n",
      "  _warn_prf(average, modifier, f\"{metric.capitalize()} is\", len(result))\n",
      "/Users/witchapatissariyawat/.pyenv/versions/stock-machinelearning/lib/python3.10/site-packages/sklearn/metrics/_classification.py:1565: UndefinedMetricWarning: Precision is ill-defined and being set to 0.0 in labels with no predicted samples. Use `zero_division` parameter to control this behavior.\n",
      "  _warn_prf(average, modifier, f\"{metric.capitalize()} is\", len(result))\n"
     ]
    }
   ],
   "source": [
    "from sklearn.linear_model import LogisticRegression\n",
    "from sklearn.metrics import accuracy_score, classification_report\n",
    "\n",
    "# Define the Logistic Regression model with tuned hyperparameters\n",
    "tuned_lr_model = LogisticRegression(C=0.1, penalty='l2', solver='liblinear')\n",
    "\n",
    "# Fit the model to the training data\n",
    "tuned_lr_model.fit(X_train, y_train)\n",
    "\n",
    "# Make predictions on the test set\n",
    "tuned_lr_predictions = tuned_lr_model.predict(X_test)\n",
    "\n",
    "# Evaluate the accuracy\n",
    "tuned_lr_accuracy = accuracy_score(y_test, tuned_lr_predictions)\n",
    "\n",
    "# Display the results\n",
    "print(\"Logistic Regression with Regularization:\")\n",
    "print(f\"Accuracy on Test Set: {tuned_lr_accuracy:.4f}\")\n",
    "print(\"\\nClassification Report:\")\n",
    "print(classification_report(y_test, tuned_lr_predictions))\n"
   ]
  },
  {
   "cell_type": "markdown",
   "id": "fae74c17",
   "metadata": {
    "papermill": {
     "duration": 0.052173,
     "end_time": "2024-01-10T11:32:48.651375",
     "exception": false,
     "start_time": "2024-01-10T11:32:48.599202",
     "status": "completed"
    },
    "tags": []
   },
   "source": [
    "Still after applying regularizaation the accuracy is somehow similiar. So there might be other factors which we solved to reduce overfitting for this model. Example:\n",
    "\n",
    "1. **Feature Selection:**\n",
    "    Identify and remove irrelevant or redundant features.\n",
    "    Select a subset of the most informative features.\n",
    "    \n",
    "2. **Ensemble Methods:**\n",
    "    Explore ensemble methods like Random Forest or Gradient Boosting.\n",
    "    Ensemble models can mitigate overfitting and provide better generalization.\n",
    "    \n",
    "3. **Collect More Data:**\n",
    "   If feasible, collecting additional data can help improve model generalization.\n",
    "   \n",
    "4. **Early Stopping:**\n",
    "   If applicable (e.g., in iterative algorithms like gradient boosting), use early stopping to halt training when performance on a validation set starts to degrade.\n"
   ]
  },
  {
   "cell_type": "code",
   "execution_count": null,
   "id": "36f70b41",
   "metadata": {
    "papermill": {
     "duration": null,
     "end_time": null,
     "exception": null,
     "start_time": null,
     "status": "pending"
    },
    "tags": []
   },
   "outputs": [],
   "source": []
  }
 ],
 "metadata": {
  "kaggle": {
   "accelerator": "none",
   "dataSources": [
    {
     "datasetId": 4285977,
     "sourceId": 7375953,
     "sourceType": "datasetVersion"
    }
   ],
   "dockerImageVersionId": 30626,
   "isGpuEnabled": false,
   "isInternetEnabled": true,
   "language": "python",
   "sourceType": "notebook"
  },
  "kernelspec": {
   "display_name": "Python (stock-machinelearning)",
   "language": "python",
   "name": "stock-machinelearning"
  },
  "language_info": {
   "codemirror_mode": {
    "name": "ipython",
    "version": 3
   },
   "file_extension": ".py",
   "mimetype": "text/x-python",
   "name": "python",
   "nbconvert_exporter": "python",
   "pygments_lexer": "ipython3",
   "version": "3.10.17"
  },
  "papermill": {
   "default_parameters": {},
   "duration": 52.414837,
   "end_time": "2024-01-10T11:32:52.748659",
   "environment_variables": {},
   "exception": true,
   "input_path": "__notebook__.ipynb",
   "output_path": "__notebook__.ipynb",
   "parameters": {},
   "start_time": "2024-01-10T11:32:00.333822",
   "version": "2.4.0"
  }
 },
 "nbformat": 4,
 "nbformat_minor": 5
}
